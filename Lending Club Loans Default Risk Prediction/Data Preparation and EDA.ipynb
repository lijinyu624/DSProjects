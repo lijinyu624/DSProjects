{
 "cells": [
  {
   "cell_type": "markdown",
   "metadata": {},
   "source": [
    "### Import necessary modules"
   ]
  },
  {
   "cell_type": "code",
   "execution_count": 2,
   "metadata": {
    "collapsed": true
   },
   "outputs": [],
   "source": [
    "import pandas as pd\n",
    "import numpy as np\n",
    "import matplotlib.pyplot as plt\n",
    "import seaborn as sns\n",
    "% matplotlib inline"
   ]
  },
  {
   "cell_type": "code",
   "execution_count": 3,
   "metadata": {
    "collapsed": false
   },
   "outputs": [],
   "source": [
    "import json\n",
    "import requests"
   ]
  },
  {
   "cell_type": "markdown",
   "metadata": {},
   "source": [
    "### request the current listing data set (data for prediction) from Lending Club API"
   ]
  },
  {
   "cell_type": "code",
   "execution_count": 5,
   "metadata": {
    "collapsed": false
   },
   "outputs": [],
   "source": [
    "api_key = open('apikey.txt', 'r').read()\n",
    "headers = {'Authorization': api_key}\n",
    "url = 'https://api.lendingclub.com/api/investor/v1/loans/listing'\n",
    "r = requests.get(url, headers = headers)"
   ]
  },
  {
   "cell_type": "code",
   "execution_count": 50,
   "metadata": {
    "collapsed": false
   },
   "outputs": [],
   "source": [
    "#data = r.json()\n",
    "#MyData = data['loans']"
   ]
  },
  {
   "cell_type": "code",
   "execution_count": null,
   "metadata": {
    "collapsed": true
   },
   "outputs": [],
   "source": [
    "with open('current_list.txt','w') as outfile:\n",
    "    json.dump(MyData, outfile)"
   ]
  },
  {
   "cell_type": "code",
   "execution_count": 8,
   "metadata": {
    "collapsed": false
   },
   "outputs": [
    {
     "data": {
      "text/html": [
       "<div>\n",
       "<table border=\"1\" class=\"dataframe\">\n",
       "  <thead>\n",
       "    <tr style=\"text-align: right;\">\n",
       "      <th></th>\n",
       "      <th>accNowDelinq</th>\n",
       "      <th>accOpenPast24Mths</th>\n",
       "      <th>acceptD</th>\n",
       "      <th>addrState</th>\n",
       "      <th>addrZip</th>\n",
       "      <th>allUtil</th>\n",
       "      <th>annualInc</th>\n",
       "      <th>annualIncJoint</th>\n",
       "      <th>applicationType</th>\n",
       "      <th>avgCurBal</th>\n",
       "      <th>...</th>\n",
       "      <th>totCollAmt</th>\n",
       "      <th>totCurBal</th>\n",
       "      <th>totHiCredLim</th>\n",
       "      <th>totalAcc</th>\n",
       "      <th>totalBalExMort</th>\n",
       "      <th>totalBalIl</th>\n",
       "      <th>totalBcLimit</th>\n",
       "      <th>totalCuTl</th>\n",
       "      <th>totalIlHighCreditLimit</th>\n",
       "      <th>totalRevHiLim</th>\n",
       "    </tr>\n",
       "  </thead>\n",
       "  <tbody>\n",
       "    <tr>\n",
       "      <th>0</th>\n",
       "      <td>0</td>\n",
       "      <td>9</td>\n",
       "      <td>2017-11-07T16:03:55.000-08:00</td>\n",
       "      <td>GA</td>\n",
       "      <td>318xx</td>\n",
       "      <td>85.0</td>\n",
       "      <td>56000</td>\n",
       "      <td>NaN</td>\n",
       "      <td>INDIVIDUAL</td>\n",
       "      <td>19290</td>\n",
       "      <td>...</td>\n",
       "      <td>5827</td>\n",
       "      <td>327937</td>\n",
       "      <td>327632</td>\n",
       "      <td>36</td>\n",
       "      <td>227660</td>\n",
       "      <td>219712</td>\n",
       "      <td>10900</td>\n",
       "      <td>1</td>\n",
       "      <td>203126</td>\n",
       "      <td>19000</td>\n",
       "    </tr>\n",
       "    <tr>\n",
       "      <th>1</th>\n",
       "      <td>0</td>\n",
       "      <td>2</td>\n",
       "      <td>2017-11-12T14:58:07.000-08:00</td>\n",
       "      <td>NJ</td>\n",
       "      <td>088xx</td>\n",
       "      <td>76.5</td>\n",
       "      <td>190000</td>\n",
       "      <td>NaN</td>\n",
       "      <td>INDIVIDUAL</td>\n",
       "      <td>60851</td>\n",
       "      <td>...</td>\n",
       "      <td>0</td>\n",
       "      <td>669359</td>\n",
       "      <td>714760</td>\n",
       "      <td>13</td>\n",
       "      <td>71561</td>\n",
       "      <td>36652</td>\n",
       "      <td>43800</td>\n",
       "      <td>0</td>\n",
       "      <td>41789</td>\n",
       "      <td>51800</td>\n",
       "    </tr>\n",
       "    <tr>\n",
       "      <th>2</th>\n",
       "      <td>0</td>\n",
       "      <td>3</td>\n",
       "      <td>2017-11-12T16:58:50.000-08:00</td>\n",
       "      <td>IL</td>\n",
       "      <td>604xx</td>\n",
       "      <td>61.3</td>\n",
       "      <td>93000</td>\n",
       "      <td>NaN</td>\n",
       "      <td>INDIVIDUAL</td>\n",
       "      <td>5222</td>\n",
       "      <td>...</td>\n",
       "      <td>0</td>\n",
       "      <td>73108</td>\n",
       "      <td>147424</td>\n",
       "      <td>28</td>\n",
       "      <td>66519</td>\n",
       "      <td>33539</td>\n",
       "      <td>50300</td>\n",
       "      <td>1</td>\n",
       "      <td>45050</td>\n",
       "      <td>57800</td>\n",
       "    </tr>\n",
       "    <tr>\n",
       "      <th>3</th>\n",
       "      <td>0</td>\n",
       "      <td>3</td>\n",
       "      <td>2017-11-12T17:01:58.000-08:00</td>\n",
       "      <td>TX</td>\n",
       "      <td>786xx</td>\n",
       "      <td>65.8</td>\n",
       "      <td>27500</td>\n",
       "      <td>NaN</td>\n",
       "      <td>INDIVIDUAL</td>\n",
       "      <td>2077</td>\n",
       "      <td>...</td>\n",
       "      <td>1282</td>\n",
       "      <td>31152</td>\n",
       "      <td>47372</td>\n",
       "      <td>32</td>\n",
       "      <td>31152</td>\n",
       "      <td>28672</td>\n",
       "      <td>2000</td>\n",
       "      <td>3</td>\n",
       "      <td>42772</td>\n",
       "      <td>4600</td>\n",
       "    </tr>\n",
       "    <tr>\n",
       "      <th>4</th>\n",
       "      <td>0</td>\n",
       "      <td>0</td>\n",
       "      <td>2017-11-12T14:59:19.000-08:00</td>\n",
       "      <td>AZ</td>\n",
       "      <td>852xx</td>\n",
       "      <td>112.9</td>\n",
       "      <td>52000</td>\n",
       "      <td>NaN</td>\n",
       "      <td>INDIVIDUAL</td>\n",
       "      <td>20757</td>\n",
       "      <td>...</td>\n",
       "      <td>0</td>\n",
       "      <td>311349</td>\n",
       "      <td>316428</td>\n",
       "      <td>32</td>\n",
       "      <td>130064</td>\n",
       "      <td>106204</td>\n",
       "      <td>26600</td>\n",
       "      <td>0</td>\n",
       "      <td>88567</td>\n",
       "      <td>26600</td>\n",
       "    </tr>\n",
       "    <tr>\n",
       "      <th>5</th>\n",
       "      <td>0</td>\n",
       "      <td>2</td>\n",
       "      <td>2017-11-12T14:55:45.000-08:00</td>\n",
       "      <td>TX</td>\n",
       "      <td>793xx</td>\n",
       "      <td>73.2</td>\n",
       "      <td>131000</td>\n",
       "      <td>NaN</td>\n",
       "      <td>INDIVIDUAL</td>\n",
       "      <td>39232</td>\n",
       "      <td>...</td>\n",
       "      <td>0</td>\n",
       "      <td>196158</td>\n",
       "      <td>215350</td>\n",
       "      <td>11</td>\n",
       "      <td>22037</td>\n",
       "      <td>0</td>\n",
       "      <td>30100</td>\n",
       "      <td>0</td>\n",
       "      <td>0</td>\n",
       "      <td>30100</td>\n",
       "    </tr>\n",
       "    <tr>\n",
       "      <th>6</th>\n",
       "      <td>0</td>\n",
       "      <td>2</td>\n",
       "      <td>2017-11-12T16:26:23.000-08:00</td>\n",
       "      <td>MD</td>\n",
       "      <td>207xx</td>\n",
       "      <td>71.8</td>\n",
       "      <td>85000</td>\n",
       "      <td>NaN</td>\n",
       "      <td>INDIVIDUAL</td>\n",
       "      <td>5175</td>\n",
       "      <td>...</td>\n",
       "      <td>0</td>\n",
       "      <td>67272</td>\n",
       "      <td>94546</td>\n",
       "      <td>22</td>\n",
       "      <td>67272</td>\n",
       "      <td>29051</td>\n",
       "      <td>49800</td>\n",
       "      <td>0</td>\n",
       "      <td>42246</td>\n",
       "      <td>52300</td>\n",
       "    </tr>\n",
       "    <tr>\n",
       "      <th>7</th>\n",
       "      <td>0</td>\n",
       "      <td>4</td>\n",
       "      <td>2017-11-12T14:32:36.000-08:00</td>\n",
       "      <td>NV</td>\n",
       "      <td>891xx</td>\n",
       "      <td>5.1</td>\n",
       "      <td>35000</td>\n",
       "      <td>NaN</td>\n",
       "      <td>INDIVIDUAL</td>\n",
       "      <td>198</td>\n",
       "      <td>...</td>\n",
       "      <td>1705</td>\n",
       "      <td>1977</td>\n",
       "      <td>39100</td>\n",
       "      <td>26</td>\n",
       "      <td>1977</td>\n",
       "      <td>982</td>\n",
       "      <td>22000</td>\n",
       "      <td>0</td>\n",
       "      <td>12600</td>\n",
       "      <td>26500</td>\n",
       "    </tr>\n",
       "    <tr>\n",
       "      <th>8</th>\n",
       "      <td>0</td>\n",
       "      <td>2</td>\n",
       "      <td>2017-11-12T14:17:48.000-08:00</td>\n",
       "      <td>OR</td>\n",
       "      <td>972xx</td>\n",
       "      <td>70.7</td>\n",
       "      <td>40000</td>\n",
       "      <td>NaN</td>\n",
       "      <td>INDIVIDUAL</td>\n",
       "      <td>4548</td>\n",
       "      <td>...</td>\n",
       "      <td>0</td>\n",
       "      <td>13643</td>\n",
       "      <td>19300</td>\n",
       "      <td>5</td>\n",
       "      <td>13643</td>\n",
       "      <td>0</td>\n",
       "      <td>19300</td>\n",
       "      <td>0</td>\n",
       "      <td>0</td>\n",
       "      <td>19300</td>\n",
       "    </tr>\n",
       "    <tr>\n",
       "      <th>9</th>\n",
       "      <td>0</td>\n",
       "      <td>1</td>\n",
       "      <td>2017-11-12T16:51:14.000-08:00</td>\n",
       "      <td>MS</td>\n",
       "      <td>394xx</td>\n",
       "      <td>87.9</td>\n",
       "      <td>56711</td>\n",
       "      <td>NaN</td>\n",
       "      <td>INDIVIDUAL</td>\n",
       "      <td>10124</td>\n",
       "      <td>...</td>\n",
       "      <td>0</td>\n",
       "      <td>60743</td>\n",
       "      <td>64448</td>\n",
       "      <td>20</td>\n",
       "      <td>60743</td>\n",
       "      <td>39471</td>\n",
       "      <td>23000</td>\n",
       "      <td>0</td>\n",
       "      <td>40248</td>\n",
       "      <td>24200</td>\n",
       "    </tr>\n",
       "  </tbody>\n",
       "</table>\n",
       "<p>10 rows × 103 columns</p>\n",
       "</div>"
      ],
      "text/plain": [
       "   accNowDelinq  accOpenPast24Mths                        acceptD addrState  \\\n",
       "0             0                  9  2017-11-07T16:03:55.000-08:00        GA   \n",
       "1             0                  2  2017-11-12T14:58:07.000-08:00        NJ   \n",
       "2             0                  3  2017-11-12T16:58:50.000-08:00        IL   \n",
       "3             0                  3  2017-11-12T17:01:58.000-08:00        TX   \n",
       "4             0                  0  2017-11-12T14:59:19.000-08:00        AZ   \n",
       "5             0                  2  2017-11-12T14:55:45.000-08:00        TX   \n",
       "6             0                  2  2017-11-12T16:26:23.000-08:00        MD   \n",
       "7             0                  4  2017-11-12T14:32:36.000-08:00        NV   \n",
       "8             0                  2  2017-11-12T14:17:48.000-08:00        OR   \n",
       "9             0                  1  2017-11-12T16:51:14.000-08:00        MS   \n",
       "\n",
       "  addrZip  allUtil  annualInc  annualIncJoint applicationType  avgCurBal  \\\n",
       "0   318xx     85.0      56000             NaN      INDIVIDUAL      19290   \n",
       "1   088xx     76.5     190000             NaN      INDIVIDUAL      60851   \n",
       "2   604xx     61.3      93000             NaN      INDIVIDUAL       5222   \n",
       "3   786xx     65.8      27500             NaN      INDIVIDUAL       2077   \n",
       "4   852xx    112.9      52000             NaN      INDIVIDUAL      20757   \n",
       "5   793xx     73.2     131000             NaN      INDIVIDUAL      39232   \n",
       "6   207xx     71.8      85000             NaN      INDIVIDUAL       5175   \n",
       "7   891xx      5.1      35000             NaN      INDIVIDUAL        198   \n",
       "8   972xx     70.7      40000             NaN      INDIVIDUAL       4548   \n",
       "9   394xx     87.9      56711             NaN      INDIVIDUAL      10124   \n",
       "\n",
       "       ...        totCollAmt  totCurBal  totHiCredLim  totalAcc  \\\n",
       "0      ...              5827     327937        327632        36   \n",
       "1      ...                 0     669359        714760        13   \n",
       "2      ...                 0      73108        147424        28   \n",
       "3      ...              1282      31152         47372        32   \n",
       "4      ...                 0     311349        316428        32   \n",
       "5      ...                 0     196158        215350        11   \n",
       "6      ...                 0      67272         94546        22   \n",
       "7      ...              1705       1977         39100        26   \n",
       "8      ...                 0      13643         19300         5   \n",
       "9      ...                 0      60743         64448        20   \n",
       "\n",
       "  totalBalExMort  totalBalIl  totalBcLimit  totalCuTl  totalIlHighCreditLimit  \\\n",
       "0         227660      219712         10900          1                  203126   \n",
       "1          71561       36652         43800          0                   41789   \n",
       "2          66519       33539         50300          1                   45050   \n",
       "3          31152       28672          2000          3                   42772   \n",
       "4         130064      106204         26600          0                   88567   \n",
       "5          22037           0         30100          0                       0   \n",
       "6          67272       29051         49800          0                   42246   \n",
       "7           1977         982         22000          0                   12600   \n",
       "8          13643           0         19300          0                       0   \n",
       "9          60743       39471         23000          0                   40248   \n",
       "\n",
       "   totalRevHiLim  \n",
       "0          19000  \n",
       "1          51800  \n",
       "2          57800  \n",
       "3           4600  \n",
       "4          26600  \n",
       "5          30100  \n",
       "6          52300  \n",
       "7          26500  \n",
       "8          19300  \n",
       "9          24200  \n",
       "\n",
       "[10 rows x 103 columns]"
      ]
     },
     "execution_count": 8,
     "metadata": {},
     "output_type": "execute_result"
    }
   ],
   "source": [
    "df_current = pd.read_json('current_list.txt')\n",
    "df_current"
   ]
  },
  {
   "cell_type": "code",
   "execution_count": 51,
   "metadata": {
    "collapsed": false
   },
   "outputs": [],
   "source": [
    "# a better way to read json\n",
    "#df_current = pd.io.json.json_normalize(MyData)\n",
    "#df_current"
   ]
  },
  {
   "cell_type": "markdown",
   "metadata": {},
   "source": [
    "### Import historical data set (downloaded from website)"
   ]
  },
  {
   "cell_type": "code",
   "execution_count": 9,
   "metadata": {
    "collapsed": false
   },
   "outputs": [
    {
     "name": "stderr",
     "output_type": "stream",
     "text": [
      "D:\\ProgramData\\Anaconda2\\lib\\site-packages\\IPython\\core\\interactiveshell.py:2717: DtypeWarning: Columns (0,19) have mixed types. Specify dtype option on import or set low_memory=False.\n",
      "  interactivity=interactivity, compiler=compiler, result=result)\n"
     ]
    }
   ],
   "source": [
    "df2014 = pd.read_csv('LoanStats3c_securev1.csv', skiprows = 1)"
   ]
  },
  {
   "cell_type": "code",
   "execution_count": 10,
   "metadata": {
    "collapsed": false
   },
   "outputs": [
    {
     "data": {
      "text/html": [
       "<div>\n",
       "<table border=\"1\" class=\"dataframe\">\n",
       "  <thead>\n",
       "    <tr style=\"text-align: right;\">\n",
       "      <th></th>\n",
       "      <th>id</th>\n",
       "      <th>member_id</th>\n",
       "      <th>loan_amnt</th>\n",
       "      <th>funded_amnt</th>\n",
       "      <th>funded_amnt_inv</th>\n",
       "      <th>term</th>\n",
       "      <th>int_rate</th>\n",
       "      <th>installment</th>\n",
       "      <th>grade</th>\n",
       "      <th>sub_grade</th>\n",
       "      <th>...</th>\n",
       "      <th>sec_app_earliest_cr_line</th>\n",
       "      <th>sec_app_inq_last_6mths</th>\n",
       "      <th>sec_app_mort_acc</th>\n",
       "      <th>sec_app_open_acc</th>\n",
       "      <th>sec_app_revol_util</th>\n",
       "      <th>sec_app_open_il_6m</th>\n",
       "      <th>sec_app_num_rev_accts</th>\n",
       "      <th>sec_app_chargeoff_within_12_mths</th>\n",
       "      <th>sec_app_collections_12_mths_ex_med</th>\n",
       "      <th>sec_app_mths_since_last_major_derog</th>\n",
       "    </tr>\n",
       "  </thead>\n",
       "  <tbody>\n",
       "    <tr>\n",
       "      <th>0</th>\n",
       "      <td>36805548</td>\n",
       "      <td>NaN</td>\n",
       "      <td>10400.0</td>\n",
       "      <td>10400.0</td>\n",
       "      <td>10400.0</td>\n",
       "      <td>36 months</td>\n",
       "      <td>6.99%</td>\n",
       "      <td>321.08</td>\n",
       "      <td>A</td>\n",
       "      <td>A3</td>\n",
       "      <td>...</td>\n",
       "      <td>NaN</td>\n",
       "      <td>NaN</td>\n",
       "      <td>NaN</td>\n",
       "      <td>NaN</td>\n",
       "      <td>NaN</td>\n",
       "      <td>NaN</td>\n",
       "      <td>NaN</td>\n",
       "      <td>NaN</td>\n",
       "      <td>NaN</td>\n",
       "      <td>NaN</td>\n",
       "    </tr>\n",
       "    <tr>\n",
       "      <th>1</th>\n",
       "      <td>38098114</td>\n",
       "      <td>NaN</td>\n",
       "      <td>15000.0</td>\n",
       "      <td>15000.0</td>\n",
       "      <td>15000.0</td>\n",
       "      <td>60 months</td>\n",
       "      <td>12.39%</td>\n",
       "      <td>336.64</td>\n",
       "      <td>C</td>\n",
       "      <td>C1</td>\n",
       "      <td>...</td>\n",
       "      <td>NaN</td>\n",
       "      <td>NaN</td>\n",
       "      <td>NaN</td>\n",
       "      <td>NaN</td>\n",
       "      <td>NaN</td>\n",
       "      <td>NaN</td>\n",
       "      <td>NaN</td>\n",
       "      <td>NaN</td>\n",
       "      <td>NaN</td>\n",
       "      <td>NaN</td>\n",
       "    </tr>\n",
       "    <tr>\n",
       "      <th>2</th>\n",
       "      <td>37822187</td>\n",
       "      <td>NaN</td>\n",
       "      <td>9600.0</td>\n",
       "      <td>9600.0</td>\n",
       "      <td>9600.0</td>\n",
       "      <td>36 months</td>\n",
       "      <td>13.66%</td>\n",
       "      <td>326.53</td>\n",
       "      <td>C</td>\n",
       "      <td>C3</td>\n",
       "      <td>...</td>\n",
       "      <td>NaN</td>\n",
       "      <td>NaN</td>\n",
       "      <td>NaN</td>\n",
       "      <td>NaN</td>\n",
       "      <td>NaN</td>\n",
       "      <td>NaN</td>\n",
       "      <td>NaN</td>\n",
       "      <td>NaN</td>\n",
       "      <td>NaN</td>\n",
       "      <td>NaN</td>\n",
       "    </tr>\n",
       "    <tr>\n",
       "      <th>3</th>\n",
       "      <td>37662224</td>\n",
       "      <td>NaN</td>\n",
       "      <td>7650.0</td>\n",
       "      <td>7650.0</td>\n",
       "      <td>7650.0</td>\n",
       "      <td>36 months</td>\n",
       "      <td>13.66%</td>\n",
       "      <td>260.20</td>\n",
       "      <td>C</td>\n",
       "      <td>C3</td>\n",
       "      <td>...</td>\n",
       "      <td>NaN</td>\n",
       "      <td>NaN</td>\n",
       "      <td>NaN</td>\n",
       "      <td>NaN</td>\n",
       "      <td>NaN</td>\n",
       "      <td>NaN</td>\n",
       "      <td>NaN</td>\n",
       "      <td>NaN</td>\n",
       "      <td>NaN</td>\n",
       "      <td>NaN</td>\n",
       "    </tr>\n",
       "    <tr>\n",
       "      <th>4</th>\n",
       "      <td>37612354</td>\n",
       "      <td>NaN</td>\n",
       "      <td>12800.0</td>\n",
       "      <td>12800.0</td>\n",
       "      <td>12800.0</td>\n",
       "      <td>60 months</td>\n",
       "      <td>17.14%</td>\n",
       "      <td>319.08</td>\n",
       "      <td>D</td>\n",
       "      <td>D4</td>\n",
       "      <td>...</td>\n",
       "      <td>NaN</td>\n",
       "      <td>NaN</td>\n",
       "      <td>NaN</td>\n",
       "      <td>NaN</td>\n",
       "      <td>NaN</td>\n",
       "      <td>NaN</td>\n",
       "      <td>NaN</td>\n",
       "      <td>NaN</td>\n",
       "      <td>NaN</td>\n",
       "      <td>NaN</td>\n",
       "    </tr>\n",
       "  </tbody>\n",
       "</table>\n",
       "<p>5 rows × 128 columns</p>\n",
       "</div>"
      ],
      "text/plain": [
       "         id  member_id  loan_amnt  funded_amnt  funded_amnt_inv        term  \\\n",
       "0  36805548        NaN    10400.0      10400.0          10400.0   36 months   \n",
       "1  38098114        NaN    15000.0      15000.0          15000.0   60 months   \n",
       "2  37822187        NaN     9600.0       9600.0           9600.0   36 months   \n",
       "3  37662224        NaN     7650.0       7650.0           7650.0   36 months   \n",
       "4  37612354        NaN    12800.0      12800.0          12800.0   60 months   \n",
       "\n",
       "  int_rate  installment grade sub_grade                 ...                  \\\n",
       "0    6.99%       321.08     A        A3                 ...                   \n",
       "1   12.39%       336.64     C        C1                 ...                   \n",
       "2   13.66%       326.53     C        C3                 ...                   \n",
       "3   13.66%       260.20     C        C3                 ...                   \n",
       "4   17.14%       319.08     D        D4                 ...                   \n",
       "\n",
       "  sec_app_earliest_cr_line sec_app_inq_last_6mths sec_app_mort_acc  \\\n",
       "0                      NaN                    NaN              NaN   \n",
       "1                      NaN                    NaN              NaN   \n",
       "2                      NaN                    NaN              NaN   \n",
       "3                      NaN                    NaN              NaN   \n",
       "4                      NaN                    NaN              NaN   \n",
       "\n",
       "   sec_app_open_acc sec_app_revol_util sec_app_open_il_6m  \\\n",
       "0               NaN                NaN                NaN   \n",
       "1               NaN                NaN                NaN   \n",
       "2               NaN                NaN                NaN   \n",
       "3               NaN                NaN                NaN   \n",
       "4               NaN                NaN                NaN   \n",
       "\n",
       "  sec_app_num_rev_accts sec_app_chargeoff_within_12_mths  \\\n",
       "0                   NaN                              NaN   \n",
       "1                   NaN                              NaN   \n",
       "2                   NaN                              NaN   \n",
       "3                   NaN                              NaN   \n",
       "4                   NaN                              NaN   \n",
       "\n",
       "  sec_app_collections_12_mths_ex_med sec_app_mths_since_last_major_derog  \n",
       "0                                NaN                                 NaN  \n",
       "1                                NaN                                 NaN  \n",
       "2                                NaN                                 NaN  \n",
       "3                                NaN                                 NaN  \n",
       "4                                NaN                                 NaN  \n",
       "\n",
       "[5 rows x 128 columns]"
      ]
     },
     "execution_count": 10,
     "metadata": {},
     "output_type": "execute_result"
    }
   ],
   "source": [
    "df2014.head()"
   ]
  },
  {
   "cell_type": "code",
   "execution_count": 11,
   "metadata": {
    "collapsed": false
   },
   "outputs": [
    {
     "data": {
      "text/plain": [
       "(235631, 128)"
      ]
     },
     "execution_count": 11,
     "metadata": {},
     "output_type": "execute_result"
    }
   ],
   "source": [
    "df2014.shape"
   ]
  },
  {
   "cell_type": "markdown",
   "metadata": {},
   "source": [
    "### compare the feature names of two data set"
   ]
  },
  {
   "cell_type": "code",
   "execution_count": 12,
   "metadata": {
    "collapsed": false
   },
   "outputs": [
    {
     "name": "stdout",
     "output_type": "stream",
     "text": [
      "----------current---------\n",
      "accNowDelinq\n",
      "accOpenPast24Mths\n",
      "acceptD\n",
      "addrState\n",
      "addrZip\n",
      "allUtil\n",
      "annualInc\n",
      "annualIncJoint\n",
      "applicationType\n",
      "avgCurBal\n",
      "bcOpenToBuy\n",
      "bcUtil\n",
      "chargeoffWithin12Mths\n",
      "collections12MthsExMed\n",
      "creditPullD\n",
      "delinq2Yrs\n",
      "delinqAmnt\n",
      "desc\n",
      "dti\n",
      "dtiJoint\n",
      "earliestCrLine\n",
      "empLength\n",
      "empTitle\n",
      "expD\n",
      "expDefaultRate\n",
      "ficoRangeHigh\n",
      "ficoRangeLow\n",
      "fundedAmount\n",
      "grade\n",
      "homeOwnership\n",
      "iLUtil\n",
      "id\n",
      "ilsExpD\n",
      "initialListStatus\n",
      "inqFi\n",
      "inqLast12m\n",
      "inqLast6Mths\n",
      "installment\n",
      "intRate\n",
      "investorCount\n",
      "isIncV\n",
      "isIncVJoint\n",
      "listD\n",
      "loanAmount\n",
      "maxBalBc\n",
      "memberId\n",
      "moSinOldIlAcct\n",
      "moSinOldRevTlOp\n",
      "moSinRcntRevTlOp\n",
      "moSinRcntTl\n",
      "mortAcc\n",
      "mthsSinceLastDelinq\n",
      "mthsSinceLastMajorDerog\n",
      "mthsSinceLastRecord\n",
      "mthsSinceRcntIl\n",
      "mthsSinceRecentBc\n",
      "mthsSinceRecentBcDlq\n",
      "mthsSinceRecentInq\n",
      "mthsSinceRecentRevolDelinq\n",
      "numAcctsEver120Ppd\n",
      "numActvBcTl\n",
      "numActvRevTl\n",
      "numBcSats\n",
      "numBcTl\n",
      "numIlTl\n",
      "numOpRevTl\n",
      "numRevAccts\n",
      "numRevTlBalGt0\n",
      "numSats\n",
      "numTl120dpd2m\n",
      "numTl30dpd\n",
      "numTl90gDpd24m\n",
      "numTlOpPast12m\n",
      "openAcc\n",
      "openAcc6m\n",
      "openIl12m\n",
      "openIl24m\n",
      "openIl6m\n",
      "openRv12m\n",
      "openRv24m\n",
      "pctTlNvrDlq\n",
      "percentBcGt75\n",
      "pubRec\n",
      "pubRecBankruptcies\n",
      "purpose\n",
      "reviewStatus\n",
      "reviewStatusD\n",
      "revolBal\n",
      "revolUtil\n",
      "serviceFeeRate\n",
      "subGrade\n",
      "taxLiens\n",
      "term\n",
      "totCollAmt\n",
      "totCurBal\n",
      "totHiCredLim\n",
      "totalAcc\n",
      "totalBalExMort\n",
      "totalBalIl\n",
      "totalBcLimit\n",
      "totalCuTl\n",
      "totalIlHighCreditLimit\n",
      "totalRevHiLim\n",
      "----------past---------\n",
      "id\n",
      "member_id\n",
      "loan_amnt\n",
      "funded_amnt\n",
      "funded_amnt_inv\n",
      "term\n",
      "int_rate\n",
      "installment\n",
      "grade\n",
      "sub_grade\n",
      "emp_title\n",
      "emp_length\n",
      "home_ownership\n",
      "annual_inc\n",
      "verification_status\n",
      "issue_d\n",
      "loan_status\n",
      "pymnt_plan\n",
      "url\n",
      "desc\n",
      "purpose\n",
      "title\n",
      "zip_code\n",
      "addr_state\n",
      "dti\n",
      "delinq_2yrs\n",
      "earliest_cr_line\n",
      "fico_range_low\n",
      "fico_range_high\n",
      "inq_last_6mths\n",
      "mths_since_last_delinq\n",
      "mths_since_last_record\n",
      "open_acc\n",
      "pub_rec\n",
      "revol_bal\n",
      "revol_util\n",
      "total_acc\n",
      "initial_list_status\n",
      "out_prncp\n",
      "out_prncp_inv\n",
      "total_pymnt\n",
      "total_pymnt_inv\n",
      "total_rec_prncp\n",
      "total_rec_int\n",
      "total_rec_late_fee\n",
      "recoveries\n",
      "collection_recovery_fee\n",
      "last_pymnt_d\n",
      "last_pymnt_amnt\n",
      "next_pymnt_d\n",
      "last_credit_pull_d\n",
      "last_fico_range_high\n",
      "last_fico_range_low\n",
      "collections_12_mths_ex_med\n",
      "mths_since_last_major_derog\n",
      "policy_code\n",
      "application_type\n",
      "annual_inc_joint\n",
      "dti_joint\n",
      "verification_status_joint\n",
      "acc_now_delinq\n",
      "tot_coll_amt\n",
      "tot_cur_bal\n",
      "open_acc_6m\n",
      "open_il_6m\n",
      "open_il_12m\n",
      "open_il_24m\n",
      "mths_since_rcnt_il\n",
      "total_bal_il\n",
      "il_util\n",
      "open_rv_12m\n",
      "open_rv_24m\n",
      "max_bal_bc\n",
      "all_util\n",
      "total_rev_hi_lim\n",
      "inq_fi\n",
      "total_cu_tl\n",
      "inq_last_12m\n",
      "acc_open_past_24mths\n",
      "avg_cur_bal\n",
      "bc_open_to_buy\n",
      "bc_util\n",
      "chargeoff_within_12_mths\n",
      "delinq_amnt\n",
      "mo_sin_old_il_acct\n",
      "mo_sin_old_rev_tl_op\n",
      "mo_sin_rcnt_rev_tl_op\n",
      "mo_sin_rcnt_tl\n",
      "mort_acc\n",
      "mths_since_recent_bc\n",
      "mths_since_recent_bc_dlq\n",
      "mths_since_recent_inq\n",
      "mths_since_recent_revol_delinq\n",
      "num_accts_ever_120_pd\n",
      "num_actv_bc_tl\n",
      "num_actv_rev_tl\n",
      "num_bc_sats\n",
      "num_bc_tl\n",
      "num_il_tl\n",
      "num_op_rev_tl\n",
      "num_rev_accts\n",
      "num_rev_tl_bal_gt_0\n",
      "num_sats\n",
      "num_tl_120dpd_2m\n",
      "num_tl_30dpd\n",
      "num_tl_90g_dpd_24m\n",
      "num_tl_op_past_12m\n",
      "pct_tl_nvr_dlq\n",
      "percent_bc_gt_75\n",
      "pub_rec_bankruptcies\n",
      "tax_liens\n",
      "tot_hi_cred_lim\n",
      "total_bal_ex_mort\n",
      "total_bc_limit\n",
      "total_il_high_credit_limit\n",
      "revol_bal_joint\n",
      "sec_app_fico_range_low\n",
      "sec_app_fico_range_high\n",
      "sec_app_earliest_cr_line\n",
      "sec_app_inq_last_6mths\n",
      "sec_app_mort_acc\n",
      "sec_app_open_acc\n",
      "sec_app_revol_util\n",
      "sec_app_open_il_6m\n",
      "sec_app_num_rev_accts\n",
      "sec_app_chargeoff_within_12_mths\n",
      "sec_app_collections_12_mths_ex_med\n",
      "sec_app_mths_since_last_major_derog\n"
     ]
    }
   ],
   "source": [
    "print '----------current---------'\n",
    "for col in df_current.columns.values:\n",
    "    print col\n",
    "\n",
    "print '----------past---------'\n",
    "for col in df2014.columns.values:\n",
    "    print col"
   ]
  },
  {
   "cell_type": "code",
   "execution_count": 13,
   "metadata": {
    "collapsed": false
   },
   "outputs": [],
   "source": [
    "current_feature = list(df_current.columns.values)\n",
    "his_feature = list(df2014.columns.values)"
   ]
  },
  {
   "cell_type": "markdown",
   "metadata": {},
   "source": [
    "### Unify the feature names\n",
    "1. transfrom all characters to lower case\n",
    "2. remove underscore '_'\n",
    "3. change name"
   ]
  },
  {
   "cell_type": "code",
   "execution_count": 14,
   "metadata": {
    "collapsed": false
   },
   "outputs": [
    {
     "name": "stdout",
     "output_type": "stream",
     "text": [
      "['accnowdelinq', 'accopenpast24mths', 'acceptd', 'addrstate', 'addrzip', 'allutil', 'annualinc', 'annualincjoint', 'applicationtype', 'avgcurbal', 'bcopentobuy', 'bcutil', 'chargeoffwithin12mths', 'collections12mthsexmed', 'creditpulld', 'delinq2yrs', 'delinqamnt', 'desc', 'dti', 'dtijoint', 'earliestcrline', 'emplength', 'emptitle', 'expd', 'expdefaultrate', 'ficorangehigh', 'ficorangelow', 'fundedamount', 'grade', 'homeownership', 'ilutil', 'id', 'ilsexpd', 'initialliststatus', 'inqfi', 'inqlast12m', 'inqlast6mths', 'installment', 'intrate', 'investorcount', 'isincv', 'isincvjoint', 'listd', 'loanamount', 'maxbalbc', 'memberid', 'mosinoldilacct', 'mosinoldrevtlop', 'mosinrcntrevtlop', 'mosinrcnttl', 'mortacc', 'mthssincelastdelinq', 'mthssincelastmajorderog', 'mthssincelastrecord', 'mthssincercntil', 'mthssincerecentbc', 'mthssincerecentbcdlq', 'mthssincerecentinq', 'mthssincerecentrevoldelinq', 'numacctsever120ppd', 'numactvbctl', 'numactvrevtl', 'numbcsats', 'numbctl', 'numiltl', 'numoprevtl', 'numrevaccts', 'numrevtlbalgt0', 'numsats', 'numtl120dpd2m', 'numtl30dpd', 'numtl90gdpd24m', 'numtloppast12m', 'openacc', 'openacc6m', 'openil12m', 'openil24m', 'openil6m', 'openrv12m', 'openrv24m', 'pcttlnvrdlq', 'percentbcgt75', 'pubrec', 'pubrecbankruptcies', 'purpose', 'reviewstatus', 'reviewstatusd', 'revolbal', 'revolutil', 'servicefeerate', 'subgrade', 'taxliens', 'term', 'totcollamt', 'totcurbal', 'tothicredlim', 'totalacc', 'totalbalexmort', 'totalbalil', 'totalbclimit', 'totalcutl', 'totalilhighcreditlimit', 'totalrevhilim']\n",
      "['id', 'memberid', 'loanamnt', 'fundedamnt', 'fundedamntinv', 'term', 'intrate', 'installment', 'grade', 'subgrade', 'emptitle', 'emplength', 'homeownership', 'annualinc', 'verificationstatus', 'issued', 'loanstatus', 'pymntplan', 'url', 'desc', 'purpose', 'title', 'zipcode', 'addrstate', 'dti', 'delinq2yrs', 'earliestcrline', 'ficorangelow', 'ficorangehigh', 'inqlast6mths', 'mthssincelastdelinq', 'mthssincelastrecord', 'openacc', 'pubrec', 'revolbal', 'revolutil', 'totalacc', 'initialliststatus', 'outprncp', 'outprncpinv', 'totalpymnt', 'totalpymntinv', 'totalrecprncp', 'totalrecint', 'totalreclatefee', 'recoveries', 'collectionrecoveryfee', 'lastpymntd', 'lastpymntamnt', 'nextpymntd', 'lastcreditpulld', 'lastficorangehigh', 'lastficorangelow', 'collections12mthsexmed', 'mthssincelastmajorderog', 'policycode', 'applicationtype', 'annualincjoint', 'dtijoint', 'verificationstatusjoint', 'accnowdelinq', 'totcollamt', 'totcurbal', 'openacc6m', 'openil6m', 'openil12m', 'openil24m', 'mthssincercntil', 'totalbalil', 'ilutil', 'openrv12m', 'openrv24m', 'maxbalbc', 'allutil', 'totalrevhilim', 'inqfi', 'totalcutl', 'inqlast12m', 'accopenpast24mths', 'avgcurbal', 'bcopentobuy', 'bcutil', 'chargeoffwithin12mths', 'delinqamnt', 'mosinoldilacct', 'mosinoldrevtlop', 'mosinrcntrevtlop', 'mosinrcnttl', 'mortacc', 'mthssincerecentbc', 'mthssincerecentbcdlq', 'mthssincerecentinq', 'mthssincerecentrevoldelinq', 'numacctsever120pd', 'numactvbctl', 'numactvrevtl', 'numbcsats', 'numbctl', 'numiltl', 'numoprevtl', 'numrevaccts', 'numrevtlbalgt0', 'numsats', 'numtl120dpd2m', 'numtl30dpd', 'numtl90gdpd24m', 'numtloppast12m', 'pcttlnvrdlq', 'percentbcgt75', 'pubrecbankruptcies', 'taxliens', 'tothicredlim', 'totalbalexmort', 'totalbclimit', 'totalilhighcreditlimit', 'revolbaljoint', 'secappficorangelow', 'secappficorangehigh', 'secappearliestcrline', 'secappinqlast6mths', 'secappmortacc', 'secappopenacc', 'secapprevolutil', 'secappopenil6m', 'secappnumrevaccts', 'secappchargeoffwithin12mths', 'secappcollections12mthsexmed', 'secappmthssincelastmajorderog']\n"
     ]
    }
   ],
   "source": [
    "for i in range(len(current_feature)):\n",
    "    current_feature[i] = str.lower(str(current_feature[i]))\n",
    "    \n",
    "for i in range(len(his_feature)):\n",
    "    his_feature[i] = str(his_feature[i]).replace('_','')\n",
    "\n",
    "print current_feature\n",
    "print his_feature\n",
    "\n",
    "df_current.columns = current_feature\n",
    "df2014.columns = his_feature"
   ]
  },
  {
   "cell_type": "code",
   "execution_count": 15,
   "metadata": {
    "collapsed": false
   },
   "outputs": [],
   "source": [
    "#'addrzip' 'zipcode'\n",
    "#'fundedamout' 'fundedamnt': different for historical and current data\n",
    "#'loanamount' 'loanamnt'\n",
    "#'isincvjoint'  'verificationstatusjoint'\n",
    "#'isincv' 'verificationstatus'\n",
    "#'numacctsever120ppd' 'numacctsever120pd'\n",
    "#'accepted' 'issued'\n",
    "df_current.rename(columns={ 'addrzip': 'zipcode',\n",
    "                            'fundedamount': 'fundedamnt',\n",
    "                            'loanamount': 'loanamnt',\n",
    "                            'isincvjoint':'verificationstatusjoint',\n",
    "                            'isincv':'verificationstatus',\n",
    "                            'numacctsever120ppd':'numacctsever120pd'\n",
    "                            #'acceptd':'issued'\n",
    "                            }, inplace=True)\n",
    "\n",
    "current_feature = list(df_current.columns.values)"
   ]
  },
  {
   "cell_type": "markdown",
   "metadata": {},
   "source": [
    "### keep common features (93)\n",
    "current data (test): keep all common features\n",
    "historical data (train/test): keep all common features, besides \n",
    "- \"issued\": issued time. used to split train/validation data set\n",
    "- \"loanstatus\": label "
   ]
  },
  {
   "cell_type": "code",
   "execution_count": 16,
   "metadata": {
    "collapsed": false
   },
   "outputs": [
    {
     "name": "stdout",
     "output_type": "stream",
     "text": [
      "93\n",
      "set(['bcopentobuy', 'numactvbctl', 'mthssincelastrecord', 'totcurbal', 'totalbalexmort', 'subgrade', 'mosinrcnttl', 'ficorangelow', 'mortacc', 'mthssincelastdelinq', 'verificationstatus', 'tothicredlim', 'maxbalbc', 'totalrevhilim', 'numtl120dpd2m', 'annualincjoint', 'earliestcrline', 'term', 'inqlast12m', 'totalacc', 'desc', 'loanamnt', 'installment', 'numrevaccts', 'numoprevtl', 'avgcurbal', 'openil6m', 'addrstate', 'mosinoldilacct', 'annualinc', 'revolutil', 'numsats', 'mthssincerecentbc', 'mthssincercntil', 'openrv24m', 'chargeoffwithin12mths', 'mosinoldrevtlop', 'taxliens', 'numacctsever120pd', 'openil12m', 'mthssincerecentinq', 'numiltl', 'totalcutl', 'mthssincelastmajorderog', 'initialliststatus', 'grade', 'numbctl', 'verificationstatusjoint', 'numactvrevtl', 'ficorangehigh', 'bcutil', 'totcollamt', 'memberid', 'applicationtype', 'intrate', 'dti', 'mthssincerecentbcdlq', 'homeownership', 'pubrec', 'accopenpast24mths', 'mthssincerecentrevoldelinq', 'openacc6m', 'totalbalil', 'delinq2yrs', 'fundedamnt', 'inqfi', 'numtl30dpd', 'dtijoint', 'id', 'revolbal', 'inqlast6mths', 'pcttlnvrdlq', 'zipcode', 'openrv12m', 'emptitle', 'totalilhighcreditlimit', 'collections12mthsexmed', 'numtl90gdpd24m', 'delinqamnt', 'percentbcgt75', 'numbcsats', 'totalbclimit', 'accnowdelinq', 'purpose', 'emplength', 'ilutil', 'openil24m', 'mosinrcntrevtlop', 'allutil', 'openacc', 'numrevtlbalgt0', 'numtloppast12m', 'pubrecbankruptcies'])\n"
     ]
    }
   ],
   "source": [
    "common_feature = set(current_feature)&(set(his_feature))\n",
    "print len(common_feature)\n",
    "print common_feature"
   ]
  },
  {
   "cell_type": "code",
   "execution_count": 17,
   "metadata": {
    "collapsed": false
   },
   "outputs": [
    {
     "name": "stdout",
     "output_type": "stream",
     "text": [
      "set(['expdefaultrate', 'creditpulld', 'reviewstatus', 'ilsexpd', 'investorcount', 'servicefeerate', 'reviewstatusd', 'listd', 'acceptd', 'expd'])\n",
      "set(['lastficorangehigh', 'loanstatus', 'totalpymnt', 'issued', 'secappnumrevaccts', 'secappmthssincelastmajorderog', 'collectionrecoveryfee', 'secappcollections12mthsexmed', 'url', 'secapprevolutil', 'totalreclatefee', 'secappchargeoffwithin12mths', 'lastpymntamnt', 'lastficorangelow', 'title', 'pymntplan', 'totalrecint', 'revolbaljoint', 'secappopenil6m', 'secappopenacc', 'secappficorangehigh', 'outprncp', 'totalpymntinv', 'secappficorangelow', 'recoveries', 'fundedamntinv', 'lastpymntd', 'lastcreditpulld', 'totalrecprncp', 'secappearliestcrline', 'secappmortacc', 'outprncpinv', 'policycode', 'nextpymntd', 'secappinqlast6mths'])\n"
     ]
    }
   ],
   "source": [
    "current_unique = set(current_feature) - set(his_feature)\n",
    "his_unique = set(his_feature) - set(current_feature) \n",
    "\n",
    "print current_unique\n",
    "print his_unique"
   ]
  },
  {
   "cell_type": "code",
   "execution_count": 18,
   "metadata": {
    "collapsed": false
   },
   "outputs": [
    {
     "data": {
      "text/html": [
       "<div>\n",
       "<table border=\"1\" class=\"dataframe\">\n",
       "  <thead>\n",
       "    <tr style=\"text-align: right;\">\n",
       "      <th></th>\n",
       "      <th>bcopentobuy</th>\n",
       "      <th>numactvbctl</th>\n",
       "      <th>mthssincelastrecord</th>\n",
       "      <th>totcurbal</th>\n",
       "      <th>totalbalexmort</th>\n",
       "      <th>subgrade</th>\n",
       "      <th>mosinrcnttl</th>\n",
       "      <th>ficorangelow</th>\n",
       "      <th>mortacc</th>\n",
       "      <th>mthssincelastdelinq</th>\n",
       "      <th>...</th>\n",
       "      <th>ilutil</th>\n",
       "      <th>openil24m</th>\n",
       "      <th>mosinrcntrevtlop</th>\n",
       "      <th>allutil</th>\n",
       "      <th>openacc</th>\n",
       "      <th>numrevtlbalgt0</th>\n",
       "      <th>numtloppast12m</th>\n",
       "      <th>pubrecbankruptcies</th>\n",
       "      <th>issued</th>\n",
       "      <th>loanstatus</th>\n",
       "    </tr>\n",
       "  </thead>\n",
       "  <tbody>\n",
       "    <tr>\n",
       "      <th>235626</th>\n",
       "      <td>36402.0</td>\n",
       "      <td>2.0</td>\n",
       "      <td>NaN</td>\n",
       "      <td>591610.0</td>\n",
       "      <td>50896.0</td>\n",
       "      <td>A4</td>\n",
       "      <td>5.0</td>\n",
       "      <td>715.0</td>\n",
       "      <td>2.0</td>\n",
       "      <td>13.0</td>\n",
       "      <td>...</td>\n",
       "      <td>NaN</td>\n",
       "      <td>NaN</td>\n",
       "      <td>5.0</td>\n",
       "      <td>NaN</td>\n",
       "      <td>21.0</td>\n",
       "      <td>3.0</td>\n",
       "      <td>4.0</td>\n",
       "      <td>0.0</td>\n",
       "      <td>Jan-2014</td>\n",
       "      <td>Fully Paid</td>\n",
       "    </tr>\n",
       "    <tr>\n",
       "      <th>235627</th>\n",
       "      <td>1822.0</td>\n",
       "      <td>1.0</td>\n",
       "      <td>NaN</td>\n",
       "      <td>73598.0</td>\n",
       "      <td>73598.0</td>\n",
       "      <td>D1</td>\n",
       "      <td>19.0</td>\n",
       "      <td>715.0</td>\n",
       "      <td>3.0</td>\n",
       "      <td>65.0</td>\n",
       "      <td>...</td>\n",
       "      <td>NaN</td>\n",
       "      <td>NaN</td>\n",
       "      <td>80.0</td>\n",
       "      <td>NaN</td>\n",
       "      <td>18.0</td>\n",
       "      <td>2.0</td>\n",
       "      <td>0.0</td>\n",
       "      <td>0.0</td>\n",
       "      <td>Jan-2014</td>\n",
       "      <td>Current</td>\n",
       "    </tr>\n",
       "    <tr>\n",
       "      <th>235628</th>\n",
       "      <td>2175.0</td>\n",
       "      <td>2.0</td>\n",
       "      <td>NaN</td>\n",
       "      <td>57477.0</td>\n",
       "      <td>57477.0</td>\n",
       "      <td>D3</td>\n",
       "      <td>4.0</td>\n",
       "      <td>680.0</td>\n",
       "      <td>2.0</td>\n",
       "      <td>9.0</td>\n",
       "      <td>...</td>\n",
       "      <td>NaN</td>\n",
       "      <td>NaN</td>\n",
       "      <td>4.0</td>\n",
       "      <td>NaN</td>\n",
       "      <td>6.0</td>\n",
       "      <td>2.0</td>\n",
       "      <td>2.0</td>\n",
       "      <td>0.0</td>\n",
       "      <td>Jan-2014</td>\n",
       "      <td>Fully Paid</td>\n",
       "    </tr>\n",
       "    <tr>\n",
       "      <th>235629</th>\n",
       "      <td>NaN</td>\n",
       "      <td>NaN</td>\n",
       "      <td>NaN</td>\n",
       "      <td>NaN</td>\n",
       "      <td>NaN</td>\n",
       "      <td>NaN</td>\n",
       "      <td>NaN</td>\n",
       "      <td>NaN</td>\n",
       "      <td>NaN</td>\n",
       "      <td>NaN</td>\n",
       "      <td>...</td>\n",
       "      <td>NaN</td>\n",
       "      <td>NaN</td>\n",
       "      <td>NaN</td>\n",
       "      <td>NaN</td>\n",
       "      <td>NaN</td>\n",
       "      <td>NaN</td>\n",
       "      <td>NaN</td>\n",
       "      <td>NaN</td>\n",
       "      <td>NaN</td>\n",
       "      <td>NaN</td>\n",
       "    </tr>\n",
       "    <tr>\n",
       "      <th>235630</th>\n",
       "      <td>NaN</td>\n",
       "      <td>NaN</td>\n",
       "      <td>NaN</td>\n",
       "      <td>NaN</td>\n",
       "      <td>NaN</td>\n",
       "      <td>NaN</td>\n",
       "      <td>NaN</td>\n",
       "      <td>NaN</td>\n",
       "      <td>NaN</td>\n",
       "      <td>NaN</td>\n",
       "      <td>...</td>\n",
       "      <td>NaN</td>\n",
       "      <td>NaN</td>\n",
       "      <td>NaN</td>\n",
       "      <td>NaN</td>\n",
       "      <td>NaN</td>\n",
       "      <td>NaN</td>\n",
       "      <td>NaN</td>\n",
       "      <td>NaN</td>\n",
       "      <td>NaN</td>\n",
       "      <td>NaN</td>\n",
       "    </tr>\n",
       "  </tbody>\n",
       "</table>\n",
       "<p>5 rows × 95 columns</p>\n",
       "</div>"
      ],
      "text/plain": [
       "        bcopentobuy  numactvbctl  mthssincelastrecord  totcurbal  \\\n",
       "235626      36402.0          2.0                  NaN   591610.0   \n",
       "235627       1822.0          1.0                  NaN    73598.0   \n",
       "235628       2175.0          2.0                  NaN    57477.0   \n",
       "235629          NaN          NaN                  NaN        NaN   \n",
       "235630          NaN          NaN                  NaN        NaN   \n",
       "\n",
       "        totalbalexmort subgrade  mosinrcnttl  ficorangelow  mortacc  \\\n",
       "235626         50896.0       A4          5.0         715.0      2.0   \n",
       "235627         73598.0       D1         19.0         715.0      3.0   \n",
       "235628         57477.0       D3          4.0         680.0      2.0   \n",
       "235629             NaN      NaN          NaN           NaN      NaN   \n",
       "235630             NaN      NaN          NaN           NaN      NaN   \n",
       "\n",
       "        mthssincelastdelinq     ...     ilutil  openil24m  mosinrcntrevtlop  \\\n",
       "235626                 13.0     ...        NaN        NaN               5.0   \n",
       "235627                 65.0     ...        NaN        NaN              80.0   \n",
       "235628                  9.0     ...        NaN        NaN               4.0   \n",
       "235629                  NaN     ...        NaN        NaN               NaN   \n",
       "235630                  NaN     ...        NaN        NaN               NaN   \n",
       "\n",
       "        allutil  openacc  numrevtlbalgt0 numtloppast12m pubrecbankruptcies  \\\n",
       "235626      NaN     21.0             3.0            4.0                0.0   \n",
       "235627      NaN     18.0             2.0            0.0                0.0   \n",
       "235628      NaN      6.0             2.0            2.0                0.0   \n",
       "235629      NaN      NaN             NaN            NaN                NaN   \n",
       "235630      NaN      NaN             NaN            NaN                NaN   \n",
       "\n",
       "          issued  loanstatus  \n",
       "235626  Jan-2014  Fully Paid  \n",
       "235627  Jan-2014     Current  \n",
       "235628  Jan-2014  Fully Paid  \n",
       "235629       NaN         NaN  \n",
       "235630       NaN         NaN  \n",
       "\n",
       "[5 rows x 95 columns]"
      ]
     },
     "execution_count": 18,
     "metadata": {},
     "output_type": "execute_result"
    }
   ],
   "source": [
    "data = df2014[list(common_feature) + ['issued','loanstatus']] #loanstatus: target label #issued: used to split train/validation\n",
    "data.tail()"
   ]
  },
  {
   "cell_type": "code",
   "execution_count": 19,
   "metadata": {
    "collapsed": true
   },
   "outputs": [],
   "source": [
    "data14 = data[:-2] # remove NaN"
   ]
  },
  {
   "cell_type": "code",
   "execution_count": 20,
   "metadata": {
    "collapsed": false
   },
   "outputs": [],
   "source": [
    "data14.to_csv('loan_2014.csv', index = False)"
   ]
  },
  {
   "cell_type": "markdown",
   "metadata": {},
   "source": [
    "# data exploration and feature engineering"
   ]
  },
  {
   "cell_type": "code",
   "execution_count": 4,
   "metadata": {
    "collapsed": false
   },
   "outputs": [
    {
     "name": "stderr",
     "output_type": "stream",
     "text": [
      "D:\\ProgramData\\Anaconda2\\lib\\site-packages\\IPython\\core\\interactiveshell.py:2717: DtypeWarning: Columns (20) have mixed types. Specify dtype option on import or set low_memory=False.\n",
      "  interactivity=interactivity, compiler=compiler, result=result)\n"
     ]
    }
   ],
   "source": [
    "df = pd.read_csv('loan_2014.csv')"
   ]
  },
  {
   "cell_type": "markdown",
   "metadata": {},
   "source": [
    "## Missing values handling"
   ]
  },
  {
   "cell_type": "code",
   "execution_count": 5,
   "metadata": {
    "collapsed": false
   },
   "outputs": [
    {
     "name": "stdout",
     "output_type": "stream",
     "text": [
      "<class 'pandas.core.frame.DataFrame'>\n",
      "RangeIndex: 235629 entries, 0 to 235628\n",
      "Data columns (total 95 columns):\n",
      "bcopentobuy                   233184 non-null float64\n",
      "numactvbctl                   235629 non-null float64\n",
      "mthssincelastrecord           41524 non-null float64\n",
      "totcurbal                     235629 non-null float64\n",
      "totalbalexmort                235629 non-null float64\n",
      "subgrade                      235629 non-null object\n",
      "mosinrcnttl                   235629 non-null float64\n",
      "ficorangelow                  235629 non-null float64\n",
      "mortacc                       235629 non-null float64\n",
      "mthssincelastdelinq           119748 non-null float64\n",
      "verificationstatus            235629 non-null object\n",
      "tothicredlim                  235629 non-null float64\n",
      "maxbalbc                      0 non-null float64\n",
      "totalrevhilim                 235629 non-null float64\n",
      "numtl120dpd2m                 227769 non-null float64\n",
      "annualincjoint                0 non-null float64\n",
      "earliestcrline                235629 non-null object\n",
      "term                          235629 non-null object\n",
      "inqlast12m                    0 non-null float64\n",
      "totalacc                      235629 non-null float64\n",
      "desc                          15279 non-null object\n",
      "loanamnt                      235629 non-null float64\n",
      "installment                   235629 non-null float64\n",
      "numrevaccts                   235629 non-null float64\n",
      "numoprevtl                    235629 non-null float64\n",
      "avgcurbal                     235623 non-null float64\n",
      "openil6m                      0 non-null float64\n",
      "addrstate                     235629 non-null object\n",
      "mosinoldilacct                228458 non-null float64\n",
      "annualinc                     235629 non-null float64\n",
      "revolutil                     235504 non-null object\n",
      "numsats                       235629 non-null float64\n",
      "mthssincerecentbc             233383 non-null float64\n",
      "mthssincercntil               0 non-null float64\n",
      "openrv24m                     0 non-null float64\n",
      "chargeoffwithin12mths         235629 non-null float64\n",
      "mosinoldrevtlop               235629 non-null float64\n",
      "taxliens                      235629 non-null float64\n",
      "numacctsever120pd             235629 non-null float64\n",
      "openil12m                     0 non-null float64\n",
      "mthssincerecentinq            213937 non-null float64\n",
      "numiltl                       235629 non-null float64\n",
      "totalcutl                     0 non-null float64\n",
      "mthssincelastmajorderog       66478 non-null float64\n",
      "initialliststatus             235629 non-null object\n",
      "grade                         235629 non-null object\n",
      "numbctl                       235629 non-null float64\n",
      "verificationstatusjoint       0 non-null float64\n",
      "numactvrevtl                  235629 non-null float64\n",
      "ficorangehigh                 235629 non-null float64\n",
      "bcutil                        233018 non-null float64\n",
      "totcollamt                    235629 non-null float64\n",
      "memberid                      0 non-null float64\n",
      "applicationtype               235629 non-null object\n",
      "intrate                       235629 non-null object\n",
      "dti                           235629 non-null float64\n",
      "mthssincerecentbcdlq          62281 non-null float64\n",
      "homeownership                 235629 non-null object\n",
      "pubrec                        235629 non-null float64\n",
      "accopenpast24mths             235629 non-null float64\n",
      "mthssincerecentrevoldelinq    84766 non-null float64\n",
      "openacc6m                     0 non-null float64\n",
      "totalbalil                    0 non-null float64\n",
      "delinq2yrs                    235629 non-null float64\n",
      "fundedamnt                    235629 non-null float64\n",
      "inqfi                         0 non-null float64\n",
      "numtl30dpd                    235629 non-null float64\n",
      "dtijoint                      0 non-null float64\n",
      "id                            235629 non-null int64\n",
      "revolbal                      235629 non-null float64\n",
      "inqlast6mths                  235629 non-null float64\n",
      "pcttlnvrdlq                   235629 non-null float64\n",
      "zipcode                       235629 non-null object\n",
      "openrv12m                     0 non-null float64\n",
      "emptitle                      222393 non-null object\n",
      "totalilhighcreditlimit        235629 non-null float64\n",
      "collections12mthsexmed        235629 non-null float64\n",
      "numtl90gdpd24m                235629 non-null float64\n",
      "delinqamnt                    235629 non-null float64\n",
      "percentbcgt75                 233072 non-null float64\n",
      "numbcsats                     235629 non-null float64\n",
      "totalbclimit                  235629 non-null float64\n",
      "accnowdelinq                  235629 non-null float64\n",
      "purpose                       235629 non-null object\n",
      "emplength                     235629 non-null object\n",
      "ilutil                        0 non-null float64\n",
      "openil24m                     0 non-null float64\n",
      "mosinrcntrevtlop              235629 non-null float64\n",
      "allutil                       0 non-null float64\n",
      "openacc                       235629 non-null float64\n",
      "numrevtlbalgt0                235629 non-null float64\n",
      "numtloppast12m                235629 non-null float64\n",
      "pubrecbankruptcies            235629 non-null float64\n",
      "issued                        235629 non-null object\n",
      "loanstatus                    235629 non-null object\n",
      "dtypes: float64(76), int64(1), object(18)\n",
      "memory usage: 170.8+ MB\n"
     ]
    }
   ],
   "source": [
    "#print ('dataset ({} rows) null value:\\n'.format(df.shape[0]))\n",
    "#print (df.isnull().sum())\n",
    "df.info()"
   ]
  },
  {
   "cell_type": "markdown",
   "metadata": {},
   "source": [
    "### Find all-null features, numeric features and object features\n",
    "- 77 numeric features, 18 categorical features\n",
    "- 18 numeric features are completely missing values"
   ]
  },
  {
   "cell_type": "code",
   "execution_count": 6,
   "metadata": {
    "collapsed": false
   },
   "outputs": [],
   "source": [
    "#all-null features\n",
    "col = df.columns\n",
    "all_null_features = []\n",
    "for i in col:\n",
    "    if df[i].isnull().sum() == df.shape[0]:\n",
    "        all_null_features.append(i)\n",
    "    \n",
    "# numeric features (77)\n",
    "num_features = list(df.select_dtypes(include=['float64']).columns)\n",
    "\n",
    "# categorical features (18)\n",
    "cat_features = list(df.select_dtypes(include=['object']).columns)"
   ]
  },
  {
   "cell_type": "code",
   "execution_count": 7,
   "metadata": {
    "collapsed": false
   },
   "outputs": [
    {
     "data": {
      "text/plain": [
       "['subgrade',\n",
       " 'verificationstatus',\n",
       " 'earliestcrline',\n",
       " 'term',\n",
       " 'desc',\n",
       " 'addrstate',\n",
       " 'revolutil',\n",
       " 'initialliststatus',\n",
       " 'grade',\n",
       " 'applicationtype',\n",
       " 'intrate',\n",
       " 'homeownership',\n",
       " 'zipcode',\n",
       " 'emptitle',\n",
       " 'purpose',\n",
       " 'emplength',\n",
       " 'issued',\n",
       " 'loanstatus']"
      ]
     },
     "execution_count": 7,
     "metadata": {},
     "output_type": "execute_result"
    }
   ],
   "source": [
    "cat_features"
   ]
  },
  {
   "cell_type": "markdown",
   "metadata": {},
   "source": [
    "### pre-process categorical feature\n",
    "- grade/subgrade: ordinal cat feature, should use label encoding rather than ONE HOT Encoding\n",
    "- earliestcrline: has some levels with only 1 observation\n",
    "(convert to numerical feature: because longer credit history, more solid credit)\n",
    "- term: choose 36 month only DROP after choose 36-month data\n",
    "- desc: has too many missing values (220350) DROP\n",
    "- addrstate: has three states with only 1 observation (IA,ID,ME)\n",
    "too many levels, can use frequency as a new feature \n",
    "- revolutil: 125 missing values, can be converted to numerical feature?\n",
    "- initialliststatus:\n",
    "- applicationtype: only one level (individual) DROP\n",
    "- intrate: can be converted to numerical feature\n",
    "- homeownership: one outlier need to be removed ('ANY')\n",
    "- zipcode: can remove last two digit xx can convert it to numerical feature, frequency encoding\n",
    "- emptitle: too many missing values (13236), too many levels, can be grouped using NLP and 'others', frequency encoding\n",
    "- emplength: convert to numerical features\n",
    "n/a: to a negative number (bad than <1)\n",
    "- issued: use as split point for training/test data\n",
    "- loanstatus can be grouped to two levels (fully paid, charged off)"
   ]
  },
  {
   "cell_type": "code",
   "execution_count": 8,
   "metadata": {
    "collapsed": false
   },
   "outputs": [
    {
     "name": "stdout",
     "output_type": "stream",
     "text": [
      "subgrade\n",
      "0\n",
      "C2    13965\n",
      "C3    13794\n",
      "C1    13498\n",
      "B4    13475\n",
      "B5    13309\n",
      "C4    13093\n",
      "B3    13075\n",
      "C5    12215\n",
      "B2    11439\n",
      "D1    10880\n",
      "A5    10761\n",
      "B1    10637\n",
      "D2     9544\n",
      "A4     9124\n",
      "D3     8487\n",
      "D4     7881\n",
      "D5     6200\n",
      "A3     5842\n",
      "E1     5589\n",
      "A2     5234\n",
      "A1     5147\n",
      "E2     4831\n",
      "E3     3902\n",
      "E4     3101\n",
      "E5     2698\n",
      "F1     1935\n",
      "F2     1355\n",
      "F3     1321\n",
      "F4      964\n",
      "F5      648\n",
      "G1      527\n",
      "G2      427\n",
      "G3      305\n",
      "G4      214\n",
      "G5      212\n",
      "Name: subgrade, dtype: int64\n",
      "verificationstatus\n",
      "0\n",
      "Source Verified    97741\n",
      "Not Verified       70659\n",
      "Verified           67229\n",
      "Name: verificationstatus, dtype: int64\n",
      "earliestcrline\n",
      "0\n",
      "Aug-2001    1980\n",
      "Aug-2000    1945\n",
      "Sep-2000    1719\n",
      "Aug-2002    1711\n",
      "Aug-1999    1696\n",
      "Oct-2000    1658\n",
      "Sep-1999    1642\n",
      "Sep-2002    1574\n",
      "Oct-2001    1574\n",
      "Sep-2001    1562\n",
      "Oct-1999    1543\n",
      "Nov-1999    1525\n",
      "Sep-1998    1505\n",
      "Oct-2002    1472\n",
      "Nov-2000    1468\n",
      "Mar-2001    1452\n",
      "Nov-2001    1440\n",
      "Jul-2001    1421\n",
      "Sep-2003    1415\n",
      "Mar-2000    1399\n",
      "Aug-2003    1389\n",
      "May-2001    1384\n",
      "Oct-1998    1371\n",
      "Jul-2002    1370\n",
      "Jun-2000    1366\n",
      "Jun-2001    1356\n",
      "Jul-2000    1351\n",
      "Apr-2001    1347\n",
      "Oct-2003    1327\n",
      "Aug-1998    1312\n",
      "            ... \n",
      "Aug-1946       1\n",
      "Oct-1962       1\n",
      "May-1950       1\n",
      "Apr-1962       1\n",
      "Jan-1953       1\n",
      "Mar-1960       1\n",
      "Jul-1961       1\n",
      "Oct-1950       1\n",
      "Oct-1958       1\n",
      "Mar-1961       1\n",
      "May-1963       1\n",
      "Mar-1962       1\n",
      "Nov-1956       1\n",
      "Dec-1956       1\n",
      "Jul-1958       1\n",
      "Dec-1960       1\n",
      "May-1958       1\n",
      "Feb-1961       1\n",
      "Aug-1962       1\n",
      "Aug-1960       1\n",
      "Aug-1961       1\n",
      "Feb-1963       1\n",
      "Nov-1954       1\n",
      "Jun-1949       1\n",
      "Jan-1954       1\n",
      "Mar-1959       1\n",
      "Sep-1957       1\n",
      "Jan-1944       1\n",
      "Jan-1948       1\n",
      "Dec-1963       1\n",
      "Name: earliestcrline, dtype: int64\n",
      "term\n",
      "0\n",
      " 36 months    162570\n",
      " 60 months     73059\n",
      "Name: term, dtype: int64\n",
      "desc\n",
      "220350\n",
      "  Borrower added on 03/17/14 > Debt consolidation<br>                                                                                                                                                                                                                                                                                              11\n",
      "  Borrower added on 03/10/14 > Debt consolidation<br>                                                                                                                                                                                                                                                                                              10\n",
      "  Borrower added on 02/19/14 > Debt consolidation<br>                                                                                                                                                                                                                                                                                               9\n",
      "  Borrower added on 01/29/14 > Debt consolidation<br>                                                                                                                                                                                                                                                                                               8\n",
      "  Borrower added on 01/22/14 > Debt consolidation<br>                                                                                                                                                                                                                                                                                               7\n",
      "  Borrower added on 01/15/14 > Debt consolidation<br>                                                                                                                                                                                                                                                                                               7\n",
      "  Borrower added on 03/07/14 > Debt consolidation<br>                                                                                                                                                                                                                                                                                               6\n",
      "  Borrower added on 01/27/14 > Debt consolidation<br>                                                                                                                                                                                                                                                                                               6\n",
      "  Borrower added on 02/03/14 > Debt consolidation<br>                                                                                                                                                                                                                                                                                               6\n",
      "  Borrower added on 01/06/14 > Debt consolidation<br>                                                                                                                                                                                                                                                                                               6\n",
      "  Borrower added on 02/19/14 > Debt Consolidation<br>                                                                                                                                                                                                                                                                                               6\n",
      "  Borrower added on 01/03/14 > Debt consolidation<br>                                                                                                                                                                                                                                                                                               6\n",
      "  Borrower added on 02/26/14 > Debt Consolidation<br>                                                                                                                                                                                                                                                                                               6\n",
      "  Borrower added on 03/14/14 > Debt consolidation<br>                                                                                                                                                                                                                                                                                               6\n",
      "  Borrower added on 03/05/14 > debt consolidation<br>                                                                                                                                                                                                                                                                                               6\n",
      "  Borrower added on 03/18/14 > Debt consolidation<br>                                                                                                                                                                                                                                                                                               6\n",
      "  Borrower added on 03/03/14 > Debt consolidation<br>                                                                                                                                                                                                                                                                                               6\n",
      "  Borrower added on 02/06/14 > Debt consolidation<br>                                                                                                                                                                                                                                                                                               6\n",
      "  Borrower added on 02/24/14 > Debt Consolidation<br>                                                                                                                                                                                                                                                                                               5\n",
      "  Borrower added on 01/21/14 > Debt consolidation<br>                                                                                                                                                                                                                                                                                               5\n",
      "  Borrower added on 03/05/14 > Debt consolidation<br>                                                                                                                                                                                                                                                                                               5\n",
      "  Borrower added on 02/25/14 > Debt consolidation<br>                                                                                                                                                                                                                                                                                               5\n",
      "  Borrower added on 02/06/14 > debt consolidation<br>                                                                                                                                                                                                                                                                                               5\n",
      "  Borrower added on 01/23/14 > Debt consolidation<br>                                                                                                                                                                                                                                                                                               5\n",
      "  Borrower added on 01/07/14 > Debt consolidation<br>                                                                                                                                                                                                                                                                                               5\n",
      "                                                                                                                                                                                                                                                                                                                                                    5\n",
      "  Borrower added on 02/27/14 > Debt consolidation<br>                                                                                                                                                                                                                                                                                               5\n",
      "  Borrower added on 02/20/14 > Debt consolidation<br>                                                                                                                                                                                                                                                                                               5\n",
      "  Borrower added on 02/05/14 > Debt consolidation<br>                                                                                                                                                                                                                                                                                               5\n",
      "  Borrower added on 03/13/14 > Debt consolidation<br>                                                                                                                                                                                                                                                                                               5\n",
      "                                                                                                                                                                                                                                                                                                                                                   ..\n",
      "  Borrower added on 03/02/14 > My loan is for credit card consolidation<br>                                                                                                                                                                                                                                                                         1\n",
      "  Borrower added on 03/14/14 > I would like to remodel my very old kitchen. I'm a good borrower because I always pay back on time. Monthly budget around $1025.My job is very stable been at the same for 30 years and plan to be there few more years.<br>                                                                                         1\n",
      "  Borrower added on 02/06/14 > im consaidating all bills<br><br> Borrower added on 02/06/14 > I'm consalidating<br><br> Borrower added on 02/06/14 > I am consolidating<br>                                                                                                                                                                         1\n",
      "  Borrower added on 02/26/14 > Pay off credit cards and home improvement<br>                                                                                                                                                                                                                                                                        1\n",
      "  Borrower added on 01/08/14 > Basement remodeling, including a bedroom, and sump pump.<br>                                                                                                                                                                                                                                                         1\n",
      "  Borrower added on 01/09/14 > I have a sick child and became unemployed due to missing too many days of work. I basically lived off credit cards for over a year. Only paying the minimum or just a little more each month to not default on any cards. Now I'm working but am having a hard time getting these balances down to zero!<br>         1\n",
      "  Borrower added on 01/24/14 > For a credit card with an interest rate that is way to high. Which I am paying a little more then the minimum but still with a good portion going to the interest rate it will take longer then the lending club loan. Thank you<br>                                                                                 1\n",
      "  Borrower added on 01/16/14 > Lower payments<br>                                                                                                                                                                                                                                                                                                   1\n",
      "  Borrower added on 02/12/14 > This was a better choice for me to pay off my credit cards since credit card companies charge so much more interest.<br>                                                                                                                                                                                             1\n",
      "  Borrower added on 02/24/14 > Consolidate credit cards.<br>                                                                                                                                                                                                                                                                                        1\n",
      "  Borrower added on 12/30/13 > Credit card refi and debt consolidation<br>                                                                                                                                                                                                                                                                          1\n",
      "  Borrower added on 02/10/14 > Home improvement project<br>                                                                                                                                                                                                                                                                                         1\n",
      "  Borrower added on 01/16/14 > This loan is for debt consolidation, I want pay of my cards with a higher interest rate and I have a plan to be debt free in three years and this loan will help me achieve that.<br>                                                                                                                                1\n",
      "  Borrower added on 02/02/14 > This loan is to consolidate existing loans and put a fixed payoff plan in place.<br>                                                                                                                                                                                                                                 1\n",
      "  Borrower added on 01/07/14 > I payoff my existing debt on open accounts. Several years I ran into a period of falling behind in payments as there were family members who needed my financial support and help. I eventually got back on track and have made significant efforts in paying them off.<br>                                          1\n",
      "  Borrower added on 01/27/14 > DEBT CONSOLIDATION<br>                                                                                                                                                                                                                                                                                               1\n",
      "  Borrower added on 03/10/14 > Looking to speed up my plans to go completely debt-free by consolidating 4 of my balances.<br>                                                                                                                                                                                                                       1\n",
      "  Borrower added on 03/05/14 > i want to use this loan to consalidate some debt and have fewer monthly payments.<br>                                                                                                                                                                                                                                1\n",
      "  Borrower added on 02/09/14 > General bill and credit card consolidation<br>                                                                                                                                                                                                                                                                       1\n",
      "  Borrower added on 02/02/14 > Loan requested to pay off existing credit card debt.  Professional, stable earnings, good credit.<br>                                                                                                                                                                                                                1\n",
      "  Borrower added on 03/14/14 > Debt Consolidation. This loan will pay off all credit card debt. After paying off this loan, we will purchase a house.<br>                                                                                                                                                                                           1\n",
      "  Borrower added on 02/27/14 > This loan is to purchase a newer vehicle for myself and my business.  I started my company in 2010 and opened up my second location last year. I will use the vehicle to pick up customers and products to sell.  Newer vehicle will continue to show customers the quality service my company and I supply.<br>     1\n",
      "  Borrower added on 03/05/14 > Debt free in 2017!!<br>                                                                                                                                                                                                                                                                                              1\n",
      "  Borrower added on 01/02/14 > Pay off some credit cards and most of it will go to finishing off the rest of our basement, need to put in a sump pump and drain tile before finishing rest of basement.<br><br>  Borrower added on 01/02/14 > Pay off credit cards and put sump pump and drain tile in rest of basement then finish it.<br>         1\n",
      "  Borrower added on 02/27/14 > While we chopped our credit cards years ago, we thought it would be smart to keep them for over draft protection. We didn't realize then that the overdrafts counted as cash advances and had over a 21% interest rate. Time to consolidate and get this paid off.<br>                                               1\n",
      "  Borrower added on 03/12/14 > Hello, I'm looking to eliminate all of my revolving debt thus freeing 50% of my monthly income. I always pay more than the minimum due and while I can continue this practice, this would be a great relief. Thank you.<br>                                                                                          1\n",
      "  Borrower added on 02/10/14 > Debt consolidation paying off a chase card $12000 <br>Gander mountain MasterCard $7200<br>Lowes  GE card $2400 Want to pay a lower interest rate &amp; while keeping my excellent credit score.<br>                                                                                                                  1\n",
      "  Borrower added on 02/11/14 > I need to consolidate my bills.<br><br> Borrower added on 02/11/14 > I need this loan to consildate my debt.<br>                                                                                                                                                                                                     1\n",
      "  Borrower added on 02/26/14 > I would like to pay off an existing Lending Club loan with this loan. The interest is much better, and payments are much more manageable!<br>                                                                                                                                                                        1\n",
      "  Borrower added on 03/17/14 > The loan is to pay off ALL credit card debt, pure and simple, and to have one single payment for piece of mind and to be able to begin saving for my future.<br>                                                                                                                                                     1\n",
      "Name: desc, dtype: int64\n",
      "addrstate\n",
      "0\n",
      "CA    33288\n",
      "NY    19923\n",
      "TX    18967\n",
      "FL    15691\n",
      "IL     9628\n",
      "NJ     8863\n",
      "PA     8427\n",
      "OH     8011\n",
      "GA     7600\n",
      "VA     6965\n",
      "NC     6442\n",
      "MI     6205\n",
      "MD     5564\n",
      "AZ     5507\n",
      "MA     5232\n",
      "WA     5118\n",
      "CO     4929\n",
      "MN     4276\n",
      "IN     4206\n",
      "TN     3907\n",
      "MO     3788\n",
      "CT     3483\n",
      "NV     3225\n",
      "WI     3101\n",
      "AL     3034\n",
      "SC     2971\n",
      "OR     2912\n",
      "LA     2761\n",
      "KY     2379\n",
      "OK     2118\n",
      "KS     2103\n",
      "AR     1806\n",
      "UT     1669\n",
      "NM     1367\n",
      "WV     1311\n",
      "MS     1197\n",
      "HI     1196\n",
      "NH     1155\n",
      "RI     1043\n",
      "MT      731\n",
      "DE      661\n",
      "DC      637\n",
      "AK      598\n",
      "WY      583\n",
      "VT      542\n",
      "SD      506\n",
      "IA        1\n",
      "ID        1\n",
      "ME        1\n",
      "Name: addrstate, dtype: int64\n",
      "revolutil\n",
      "125\n",
      "0%        590\n",
      "59%       520\n",
      "58%       515\n",
      "53%       512\n",
      "48%       485\n",
      "50%       483\n",
      "55%       479\n",
      "54%       472\n",
      "57%       472\n",
      "46%       471\n",
      "52%       467\n",
      "62%       466\n",
      "61%       466\n",
      "47%       462\n",
      "51%       457\n",
      "60%       451\n",
      "67%       450\n",
      "65%       442\n",
      "63%       441\n",
      "49%       441\n",
      "64%       438\n",
      "40%       436\n",
      "66%       429\n",
      "43%       428\n",
      "56%       428\n",
      "68%       428\n",
      "44%       423\n",
      "69%       422\n",
      "41%       421\n",
      "45%       416\n",
      "         ... \n",
      "114%        1\n",
      "111.4%      1\n",
      "119.4%      1\n",
      "113.3%      1\n",
      "107.5%      1\n",
      "141.8%      1\n",
      "130.2%      1\n",
      "153%        1\n",
      "112.2%      1\n",
      "112%        1\n",
      "119.1%      1\n",
      "109.4%      1\n",
      "115.1%      1\n",
      "109.2%      1\n",
      "150.7%      1\n",
      "121.1%      1\n",
      "129.4%      1\n",
      "146.1%      1\n",
      "109.5%      1\n",
      "110.5%      1\n",
      "366.6%      1\n",
      "177.7%      1\n",
      "120%        1\n",
      "127%        1\n",
      "125.3%      1\n",
      "111.9%      1\n",
      "113.7%      1\n",
      "125.8%      1\n",
      "118.9%      1\n",
      "119.7%      1\n",
      "Name: revolutil, dtype: int64\n",
      "initialliststatus\n",
      "0\n",
      "w    123473\n",
      "f    112156\n",
      "Name: initialliststatus, dtype: int64\n",
      "grade\n",
      "0\n",
      "C    66565\n",
      "B    61935\n",
      "D    42992\n",
      "A    36108\n",
      "E    20121\n",
      "F     6223\n",
      "G     1685\n",
      "Name: grade, dtype: int64\n",
      "applicationtype\n",
      "0\n",
      "INDIVIDUAL    235629\n",
      "Name: applicationtype, dtype: int64\n",
      "intrate\n",
      "0\n",
      " 12.99%    12630\n",
      " 10.99%    10684\n",
      " 15.61%    10309\n",
      " 12.49%     9704\n",
      " 13.98%     8857\n",
      " 14.99%     8102\n",
      " 17.57%     7687\n",
      " 13.35%     7620\n",
      " 11.67%     7255\n",
      " 14.49%     7245\n",
      " 11.99%     6199\n",
      " 10.15%     6117\n",
      " 16.99%     5947\n",
      "  9.17%     5657\n",
      "  8.39%     5575\n",
      " 16.29%     5415\n",
      "  6.03%     5146\n",
      "  7.69%     4961\n",
      "  6.49%     4026\n",
      " 18.24%     3597\n",
      "  9.67%     3455\n",
      "  8.90%     3384\n",
      " 18.99%     3215\n",
      "  7.12%     3055\n",
      " 14.64%     3029\n",
      " 14.16%     2952\n",
      " 19.52%     2926\n",
      "  7.90%     2885\n",
      " 15.31%     2838\n",
      " 13.65%     2753\n",
      "           ...  \n",
      " 15.99%     1114\n",
      " 20.49%      984\n",
      " 17.14%      974\n",
      " 16.49%      968\n",
      " 24.99%      963\n",
      " 21.99%      916\n",
      " 21.18%      858\n",
      "  6.99%      855\n",
      " 17.86%      766\n",
      " 18.54%      720\n",
      " 19.22%      663\n",
      " 25.57%      647\n",
      " 19.24%      588\n",
      " 22.45%      558\n",
      " 25.80%      526\n",
      " 19.97%      517\n",
      " 20.50%      470\n",
      " 25.83%      426\n",
      " 21.48%      332\n",
      " 25.89%      305\n",
      " 22.40%      276\n",
      " 22.99%      241\n",
      " 25.99%      214\n",
      " 23.40%      214\n",
      " 26.06%      212\n",
      " 22.90%      212\n",
      " 23.99%      179\n",
      " 23.70%      163\n",
      "  6.00%       70\n",
      " 19.20%        1\n",
      "Name: intrate, dtype: int64\n",
      "homeownership\n",
      "0\n",
      "MORTGAGE    119937\n",
      "RENT         92684\n",
      "OWN          23007\n",
      "ANY              1\n",
      "Name: homeownership, dtype: int64\n",
      "zipcode\n",
      "0\n",
      "750xx    2546\n",
      "945xx    2418\n",
      "112xx    2382\n",
      "606xx    2273\n",
      "300xx    2085\n",
      "070xx    1936\n",
      "331xx    1929\n",
      "100xx    1912\n",
      "770xx    1795\n",
      "900xx    1787\n",
      "117xx    1700\n",
      "917xx    1685\n",
      "104xx    1654\n",
      "891xx    1635\n",
      "330xx    1606\n",
      "852xx    1528\n",
      "921xx    1427\n",
      "913xx    1391\n",
      "926xx    1355\n",
      "925xx    1315\n",
      "604xx    1272\n",
      "080xx    1267\n",
      "600xx    1250\n",
      "601xx    1242\n",
      "481xx    1235\n",
      "334xx    1230\n",
      "113xx    1218\n",
      "853xx    1135\n",
      "956xx    1114\n",
      "920xx    1106\n",
      "         ... \n",
      "513xx       1\n",
      "901xx       1\n",
      "938xx       1\n",
      "510xx       1\n",
      "093xx       1\n",
      "008xx       1\n",
      "836xx       1\n",
      "523xx       1\n",
      "854xx       1\n",
      "587xx       1\n",
      "353xx       1\n",
      "909xx       1\n",
      "524xx       1\n",
      "889xx       1\n",
      "685xx       1\n",
      "680xx       1\n",
      "888xx       1\n",
      "582xx       1\n",
      "663xx       1\n",
      "821xx       1\n",
      "516xx       1\n",
      "500xx       1\n",
      "682xx       1\n",
      "429xx       1\n",
      "527xx       1\n",
      "929xx       1\n",
      "511xx       1\n",
      "833xx       1\n",
      "861xx       1\n",
      "832xx       1\n",
      "Name: zipcode, dtype: int64\n",
      "emptitle\n",
      "13236\n",
      "Teacher                             4569\n",
      "Manager                             3772\n",
      "Registered Nurse                    1960\n",
      "RN                                  1816\n",
      "Supervisor                          1663\n",
      "Owner                               1512\n",
      "Sales                               1406\n",
      "Project Manager                     1368\n",
      "Office Manager                      1185\n",
      "manager                             1115\n",
      "Driver                              1111\n",
      "General Manager                     1055\n",
      "teacher                             1028\n",
      "Director                            1000\n",
      "Engineer                             870\n",
      "President                            852\n",
      "owner                                850\n",
      "Vice President                       827\n",
      "driver                               822\n",
      "Attorney                             708\n",
      "Administrative Assistant             706\n",
      "Operations Manager                   699\n",
      "Accountant                           663\n",
      "supervisor                           653\n",
      "Police Officer                       627\n",
      "sales                                613\n",
      "Sales Manager                        592\n",
      "Account Manager                      566\n",
      "Executive Assistant                  564\n",
      "Store Manager                        562\n",
      "                                    ... \n",
      "fabric sourcing consultant             1\n",
      "Sailor                                 1\n",
      "Risk Management Rep                    1\n",
      "QC/QA Technician                       1\n",
      "Mortgage Escalations Specialist        1\n",
      "ReStore Manager                        1\n",
      "used cars tech.                        1\n",
      "Client Liasion                         1\n",
      "Global Project Manager                 1\n",
      "Sr Manufacturing Technician            1\n",
      "grinder operator                       1\n",
      "Term Clerk                             1\n",
      "Business Systems Consultant            1\n",
      "Lead GIS Engineer                      1\n",
      "technical Specialist                   1\n",
      "Br manager                             1\n",
      "Member Services Coordinator            1\n",
      "Manager Visual Networking              1\n",
      "Manager - Commercial Lines             1\n",
      "USMC                                   1\n",
      "Branch Operations Officer              1\n",
      "Branch Finance Manager                 1\n",
      "Senior Water Tech                      1\n",
      "earthmover tire builder                1\n",
      "Teacher/Media Specialist               1\n",
      "teacher/ After School Director         1\n",
      "bpd/gms coordinator                    1\n",
      "heavy equip operator                   1\n",
      "Senior Partner Operation Manager       1\n",
      "Corp. Operations Mangager              1\n",
      "Name: emptitle, dtype: int64\n",
      "purpose\n",
      "0\n",
      "debt_consolidation    143006\n",
      "credit_card            55522\n",
      "home_improvement       13045\n",
      "other                  10371\n",
      "major_purchase          3858\n",
      "medical                 2331\n",
      "small_business          2277\n",
      "car                     1832\n",
      "moving                  1328\n",
      "vacation                1178\n",
      "house                    750\n",
      "renewable_energy         123\n",
      "wedding                    8\n",
      "Name: purpose, dtype: int64\n",
      "emplength\n",
      "0\n",
      "10+ years    79505\n",
      "2 years      20487\n",
      "3 years      18267\n",
      "< 1 year     17982\n",
      "1 year       14593\n",
      "4 years      13528\n",
      "7 years      13099\n",
      "5 years      13051\n",
      "n/a          12019\n",
      "8 years      11853\n",
      "6 years      11821\n",
      "9 years       9424\n",
      "Name: emplength, dtype: int64\n",
      "issued\n",
      "0\n",
      "Oct-2014    38783\n",
      "Jul-2014    29306\n",
      "Nov-2014    25054\n",
      "May-2014    19099\n",
      "Apr-2014    19071\n",
      "Aug-2014    18814\n",
      "Jun-2014    17179\n",
      "Mar-2014    16513\n",
      "Jan-2014    15628\n",
      "Feb-2014    15269\n",
      "Sep-2014    10606\n",
      "Dec-2014    10307\n",
      "Name: issued, dtype: int64\n",
      "loanstatus\n",
      "0\n",
      "Fully Paid            134710\n",
      "Current                62046\n",
      "Charged Off            34765\n",
      "Late (31-120 days)      2154\n",
      "In Grace Period         1504\n",
      "Late (16-30 days)        444\n",
      "Default                    6\n",
      "Name: loanstatus, dtype: int64\n"
     ]
    }
   ],
   "source": [
    "for i in range(len(cat_features)):\n",
    "    feat = cat_features[i]\n",
    "    print feat\n",
    "    print df[feat].isnull().sum()\n",
    "    print df[feat].value_counts()"
   ]
  },
  {
   "cell_type": "code",
   "execution_count": 9,
   "metadata": {
    "collapsed": false
   },
   "outputs": [
    {
     "data": {
      "text/plain": [
       "0"
      ]
     },
     "execution_count": 9,
     "metadata": {},
     "output_type": "execute_result"
    }
   ],
   "source": [
    "## For a issued loan, fundedamnt = loanamnt, drop fundedamnt\n",
    "sum(df.fundedamnt != df.loanamnt) # check whether fundedamnt = loanamnt"
   ]
  },
  {
   "cell_type": "code",
   "execution_count": 10,
   "metadata": {
    "collapsed": false
   },
   "outputs": [
    {
     "name": "stdout",
     "output_type": "stream",
     "text": [
      "(129487, 95)\n",
      "0    108778\n",
      "1     20709\n",
      "Name: loanstatus, dtype: int64\n"
     ]
    },
    {
     "name": "stderr",
     "output_type": "stream",
     "text": [
      "D:\\ProgramData\\Anaconda2\\lib\\site-packages\\pandas\\core\\generic.py:2773: SettingWithCopyWarning: \n",
      "A value is trying to be set on a copy of a slice from a DataFrame.\n",
      "Try using .loc[row_indexer,col_indexer] = value instead\n",
      "\n",
      "See the caveats in the documentation: http://pandas.pydata.org/pandas-docs/stable/indexing.html#indexing-view-versus-copy\n",
      "  self[name] = value\n"
     ]
    }
   ],
   "source": [
    "## query data, only select 36 months and Fully paid/charged off\n",
    "df2 = df.query(\"term == ' 36 months' and (loanstatus == 'Fully Paid' or loanstatus == 'Charged Off')\") # notice the space before '36 months'\n",
    "print df2.shape\n",
    "df2.loanstatus = df2.loanstatus.map({'Fully Paid':0, 'Charged Off':1})\n",
    "print df2.loanstatus.value_counts()"
   ]
  },
  {
   "cell_type": "markdown",
   "metadata": {},
   "source": [
    "## Visulization"
   ]
  },
  {
   "cell_type": "code",
   "execution_count": 11,
   "metadata": {
    "collapsed": false
   },
   "outputs": [
    {
     "data": {
      "text/plain": [
       "<matplotlib.axes._subplots.AxesSubplot at 0x17415a90>"
      ]
     },
     "execution_count": 11,
     "metadata": {},
     "output_type": "execute_result"
    },
    {
     "data": {
      "image/png": "[encoded data removed]",
      "text/plain": [
       "<matplotlib.figure.Figure at 0x21f34a58>"
      ]
     },
     "metadata": {},
     "output_type": "display_data"
    }
   ],
   "source": [
    "df2.installment.hist(bins=200)"
   ]
  },
  {
   "cell_type": "markdown",
   "metadata": {},
   "source": [
    "### barplots for mean response"
   ]
  },
  {
   "cell_type": "code",
   "execution_count": 12,
   "metadata": {
    "collapsed": false
   },
   "outputs": [
    {
     "data": {
      "image/png": "[encoded data removed]",
      "text/plain": [
       "<matplotlib.figure.Figure at 0x215904e0>"
      ]
     },
     "metadata": {},
     "output_type": "display_data"
    },
    {
     "data": {
      "image/png": "[encoded data removed]",
      "text/plain": [
       "<matplotlib.figure.Figure at 0x1f138828>"
      ]
     },
     "metadata": {},
     "output_type": "display_data"
    },
    {
     "data": {
      "image/png": "[encoded data removed]",
      "text/plain": [
       "<matplotlib.figure.Figure at 0x1adb1080>"
      ]
     },
     "metadata": {},
     "output_type": "display_data"
    },
    {
     "data": {
      "image/png": "[encoded data removed]",
      "text/plain": [
       "<matplotlib.figure.Figure at 0x19305a90>"
      ]
     },
     "metadata": {},
     "output_type": "display_data"
    }
   ],
   "source": [
    "dummy_list = ['emplength','verificationstatus','delinq2yrs','addrstate','homeownership','grade','subgrade','openacc']\n",
    "n_cols = 2\n",
    "n_rows = 4\n",
    "for i in range(n_rows):\n",
    "    fg,ax = plt.subplots(nrows=1,ncols=n_cols,sharey=True,figsize=(12, 8))\n",
    "    for j in range(n_cols):\n",
    "        sns.barplot(x=df2[dummy_list[i*n_cols+j]], y = df2.loanstatus, ax=ax[j])"
   ]
  },
  {
   "cell_type": "markdown",
   "metadata": {},
   "source": [
    "## Feature engineering"
   ]
  },
  {
   "cell_type": "markdown",
   "metadata": {},
   "source": [
    "### earliestcrline (convert to numerical feature: number of months to Jan-2015)"
   ]
  },
  {
   "cell_type": "code",
   "execution_count": 13,
   "metadata": {
    "collapsed": false
   },
   "outputs": [
    {
     "data": {
      "text/plain": [
       "array(['Sep-1989', 'Nov-1992', 'Aug-2002', 'Oct-1998', 'Jan-2001'], dtype=object)"
      ]
     },
     "execution_count": 13,
     "metadata": {},
     "output_type": "execute_result"
    }
   ],
   "source": [
    "df2.earliestcrline.unique()[:5]"
   ]
  },
  {
   "cell_type": "code",
   "execution_count": 14,
   "metadata": {
    "collapsed": false
   },
   "outputs": [
    {
     "name": "stdout",
     "output_type": "stream",
     "text": [
      "['Sep' 'Nov' 'Aug' 'Oct' 'Jan']\n",
      "['1989' '1992' '2002' '1998' '2001']\n"
     ]
    }
   ],
   "source": [
    "cl_month = df2.earliestcrline.apply(lambda x:x.split('-')[0])\n",
    "cl_year = df2.earliestcrline.apply(lambda x:x.split('-')[1])\n",
    "print cl_month.unique()[:5]\n",
    "print cl_year.unique()[:5]"
   ]
  },
  {
   "cell_type": "code",
   "execution_count": 15,
   "metadata": {
    "collapsed": false
   },
   "outputs": [],
   "source": [
    "dic_month = {'Jan':11, 'Feb':10, 'Mar':9, 'Apr':8,'May':7,'Jun':6,'Jul':5,'Aug':4,'Sep':3,'Oct':2,'Nov':1,'Dec':0}"
   ]
  },
  {
   "cell_type": "code",
   "execution_count": 16,
   "metadata": {
    "collapsed": false
   },
   "outputs": [
    {
     "name": "stderr",
     "output_type": "stream",
     "text": [
      "D:\\ProgramData\\Anaconda2\\lib\\site-packages\\ipykernel\\__main__.py:1: SettingWithCopyWarning: \n",
      "A value is trying to be set on a copy of a slice from a DataFrame.\n",
      "Try using .loc[row_indexer,col_indexer] = value instead\n",
      "\n",
      "See the caveats in the documentation: http://pandas.pydata.org/pandas-docs/stable/indexing.html#indexing-view-versus-copy\n",
      "  if __name__ == '__main__':\n"
     ]
    },
    {
     "name": "stdout",
     "output_type": "stream",
     "text": [
      "Axes(0.125,0.125;0.775x0.755)\n"
     ]
    },
    {
     "data": {
      "image/png": "[encoded data removed]",
      "text/plain": [
       "<matplotlib.figure.Figure at 0x17d3cdd8>"
      ]
     },
     "metadata": {},
     "output_type": "display_data"
    }
   ],
   "source": [
    "df2['earliestcrline_month'] = df.earliestcrline.apply(lambda x: (2014-int(x.split('-')[1]))*12+dic_month[x.split('-')[0]])\n",
    "print df2.earliestcrline_month.hist()"
   ]
  },
  {
   "cell_type": "code",
   "execution_count": 17,
   "metadata": {
    "collapsed": false
   },
   "outputs": [],
   "source": [
    "num_features.append('earliestcrline_month')\n",
    "cat_features.remove('earliestcrline')"
   ]
  },
  {
   "cell_type": "markdown",
   "metadata": {},
   "source": [
    "### emplenth (convert to numerical feature)\n",
    "- replace 'n/a' with np.nan\n",
    "- fill na with -999\n",
    "- replace \"<1 year\" with 0\n",
    "- replace \"x year\" with x\n",
    "- convert to \"integer\""
   ]
  },
  {
   "cell_type": "code",
   "execution_count": 18,
   "metadata": {
    "collapsed": false
   },
   "outputs": [
    {
     "name": "stderr",
     "output_type": "stream",
     "text": [
      "D:\\ProgramData\\Anaconda2\\lib\\site-packages\\pandas\\core\\generic.py:3554: SettingWithCopyWarning: \n",
      "A value is trying to be set on a copy of a slice from a DataFrame\n",
      "\n",
      "See the caveats in the documentation: http://pandas.pydata.org/pandas-docs/stable/indexing.html#indexing-view-versus-copy\n",
      "  self._update_inplace(new_data)\n",
      "D:\\ProgramData\\Anaconda2\\lib\\site-packages\\pandas\\core\\generic.py:3295: SettingWithCopyWarning: \n",
      "A value is trying to be set on a copy of a slice from a DataFrame\n",
      "\n",
      "See the caveats in the documentation: http://pandas.pydata.org/pandas-docs/stable/indexing.html#indexing-view-versus-copy\n",
      "  self._update_inplace(new_data)\n"
     ]
    },
    {
     "data": {
      "text/plain": [
       " 10     40456\n",
       " 2      11807\n",
       " 0      10538\n",
       " 3      10523\n",
       " 1       8502\n",
       " 4       7572\n",
       " 5       7395\n",
       "-999     7321\n",
       " 7       7211\n",
       " 6       6704\n",
       " 8       6457\n",
       " 9       5001\n",
       "Name: emplength, dtype: int64"
      ]
     },
     "execution_count": 18,
     "metadata": {},
     "output_type": "execute_result"
    }
   ],
   "source": [
    "df2.emplength.replace('n/a',np.nan,inplace=True)\n",
    "df2.emplength.fillna(value = -999,inplace=True)\n",
    "df2.emplength.replace('< 1 year', '0', inplace=True)\n",
    "df2.emplength.replace(to_replace='[^0-9]+', value='', inplace=True, regex=True)\n",
    "df2.emplength = df2.emplength.astype(int)\n",
    "df2.emplength.value_counts()"
   ]
  },
  {
   "cell_type": "code",
   "execution_count": 19,
   "metadata": {
    "collapsed": false
   },
   "outputs": [],
   "source": [
    "num_features.append('emplength')\n",
    "cat_features.remove('emplength')"
   ]
  },
  {
   "cell_type": "markdown",
   "metadata": {},
   "source": [
    "### intrate, revolutil (convert % to numerical feature)"
   ]
  },
  {
   "cell_type": "code",
   "execution_count": 20,
   "metadata": {
    "collapsed": false
   },
   "outputs": [
    {
     "name": "stdout",
     "output_type": "stream",
     "text": [
      "0      6.99%\n",
      "2     13.66%\n",
      "3     13.66%\n",
      "6     14.31%\n",
      "7     13.66%\n",
      "Name: intrate, dtype: object\n",
      "0    31.6%\n",
      "2    59.4%\n",
      "3    91.9%\n",
      "6    82.2%\n",
      "7    46.4%\n",
      "Name: revolutil, dtype: object\n"
     ]
    }
   ],
   "source": [
    "print df2.intrate[:5]\n",
    "print df2.revolutil[:5]"
   ]
  },
  {
   "cell_type": "code",
   "execution_count": 21,
   "metadata": {
    "collapsed": false
   },
   "outputs": [],
   "source": [
    "df2.intrate = df2.intrate.apply(lambda x: float(x.replace('%','')))\n",
    "df2.revolutil = df2.revolutil.apply(lambda x: str(x).replace('%','')).astype('float')"
   ]
  },
  {
   "cell_type": "code",
   "execution_count": 22,
   "metadata": {
    "collapsed": false
   },
   "outputs": [],
   "source": [
    "num_features.append('intrate')\n",
    "cat_features.remove('intrate')\n",
    "num_features.append('revolutil')\n",
    "cat_features.remove('revolutil')"
   ]
  },
  {
   "cell_type": "markdown",
   "metadata": {},
   "source": [
    "### Grade, subgrade (convert ordinal features to numerial features)"
   ]
  },
  {
   "cell_type": "code",
   "execution_count": 23,
   "metadata": {
    "collapsed": false
   },
   "outputs": [
    {
     "name": "stdout",
     "output_type": "stream",
     "text": [
      "['A' 'C' 'B' 'D' 'E' 'F' 'G']\n",
      "['A3' 'C3' 'C4' 'B5' 'D5' 'B4' 'D2' 'B3' 'C5' 'C2' 'B2' 'C1' 'E5' 'D3' 'B1'\n",
      " 'A5' 'A4' 'D1' 'E1' 'A1' 'A2' 'E2' 'F2' 'D4' 'F4' 'E3' 'E4' 'F1' 'F3' 'G1'\n",
      " 'G2' 'F5' 'G3' 'G4' 'G5']\n"
     ]
    }
   ],
   "source": [
    "print df2.grade.unique()\n",
    "print df2.subgrade.unique()"
   ]
  },
  {
   "cell_type": "code",
   "execution_count": 24,
   "metadata": {
    "collapsed": true
   },
   "outputs": [],
   "source": [
    "dic_grade = {'A':1,'B':2,'C':3,'D':4,'E':5,'F':6,'G':7}\n",
    "df2.grade = df2.grade.map(dic_grade)"
   ]
  },
  {
   "cell_type": "code",
   "execution_count": 25,
   "metadata": {
    "collapsed": false
   },
   "outputs": [],
   "source": [
    "df2.subgrade = df2.subgrade.apply(lambda x: (dic_grade[x[0]]-1)*5 + int(x[1]))"
   ]
  },
  {
   "cell_type": "code",
   "execution_count": 26,
   "metadata": {
    "collapsed": true
   },
   "outputs": [],
   "source": [
    "num_features.append('grade')\n",
    "cat_features.remove('grade')\n",
    "num_features.append('subgrade')\n",
    "cat_features.remove('subgrade')"
   ]
  },
  {
   "cell_type": "markdown",
   "metadata": {},
   "source": [
    "### zip code (covert to numerical feature and frequency encoding)"
   ]
  },
  {
   "cell_type": "code",
   "execution_count": 27,
   "metadata": {
    "collapsed": false
   },
   "outputs": [],
   "source": [
    "df2.zipcode = df2.zipcode.apply(lambda x: int(x[0:3]))"
   ]
  },
  {
   "cell_type": "code",
   "execution_count": 28,
   "metadata": {
    "collapsed": false
   },
   "outputs": [
    {
     "data": {
      "text/plain": [
       "0    937\n",
       "2     77\n",
       "3    850\n",
       "6    982\n",
       "7    144\n",
       "Name: zipcode, dtype: int64"
      ]
     },
     "execution_count": 28,
     "metadata": {},
     "output_type": "execute_result"
    }
   ],
   "source": [
    "df2.zipcode[:5]"
   ]
  },
  {
   "cell_type": "code",
   "execution_count": 29,
   "metadata": {
    "collapsed": false
   },
   "outputs": [],
   "source": [
    "zipcode_freq = df2.groupby('zipcode').size().reset_index()"
   ]
  },
  {
   "cell_type": "code",
   "execution_count": 30,
   "metadata": {
    "collapsed": false
   },
   "outputs": [],
   "source": [
    "zipcode_freq.columns = ['zipcode','zipcode_freq']"
   ]
  },
  {
   "cell_type": "code",
   "execution_count": 31,
   "metadata": {
    "collapsed": false
   },
   "outputs": [],
   "source": [
    "df2 = pd.merge(df2, zipcode_freq, how='left', on='zipcode')"
   ]
  },
  {
   "cell_type": "code",
   "execution_count": 32,
   "metadata": {
    "collapsed": false
   },
   "outputs": [
    {
     "data": {
      "text/plain": [
       "0    203\n",
       "1    288\n",
       "2    602\n",
       "3    381\n",
       "4    163\n",
       "Name: zipcode_freq, dtype: int64"
      ]
     },
     "execution_count": 32,
     "metadata": {},
     "output_type": "execute_result"
    }
   ],
   "source": [
    "df2.zipcode_freq[:5]"
   ]
  },
  {
   "cell_type": "code",
   "execution_count": 33,
   "metadata": {
    "collapsed": false
   },
   "outputs": [],
   "source": [
    "num_features.append('zipcode')\n",
    "cat_features.remove('zipcode')\n",
    "num_features.append('zipcode_freq')"
   ]
  },
  {
   "cell_type": "markdown",
   "metadata": {},
   "source": [
    "### emptitle (frequency encoding)"
   ]
  },
  {
   "cell_type": "code",
   "execution_count": 34,
   "metadata": {
    "collapsed": false
   },
   "outputs": [],
   "source": [
    "emptitle_freq = df2.groupby('emptitle').size().reset_index()\n",
    "emptitle_freq.columns = ['emptitle','emptitle_freq']\n",
    "df2 = pd.merge(df2, emptitle_freq, how='left', on='emptitle')"
   ]
  },
  {
   "cell_type": "code",
   "execution_count": 35,
   "metadata": {
    "collapsed": true
   },
   "outputs": [],
   "source": [
    "cat_features.remove('emptitle')\n",
    "num_features.append('emptitle_freq')"
   ]
  },
  {
   "cell_type": "markdown",
   "metadata": {},
   "source": [
    "### addrstate (frequency encoding)"
   ]
  },
  {
   "cell_type": "code",
   "execution_count": 36,
   "metadata": {
    "collapsed": true
   },
   "outputs": [],
   "source": [
    "addrstate_freq = df2.groupby('addrstate').size().reset_index()\n",
    "addrstate_freq.columns = ['addrstate','addrstate_freq']\n",
    "df2 = pd.merge(df2, addrstate_freq, how='left', on='addrstate')"
   ]
  },
  {
   "cell_type": "code",
   "execution_count": 37,
   "metadata": {
    "collapsed": true
   },
   "outputs": [],
   "source": [
    "cat_features.remove('addrstate')\n",
    "num_features.append('addrstate_freq')"
   ]
  },
  {
   "cell_type": "markdown",
   "metadata": {},
   "source": [
    "### ONE HOT encoding ('homeownership','verificationstatus','purpose','initialliststatus') \n",
    "these features only have a few levels"
   ]
  },
  {
   "cell_type": "code",
   "execution_count": 38,
   "metadata": {
    "collapsed": false
   },
   "outputs": [],
   "source": [
    "dummy_features = ['homeownership','verificationstatus','purpose','initialliststatus']\n",
    "df_dummy = pd.get_dummies(df2[dummy_features])"
   ]
  },
  {
   "cell_type": "code",
   "execution_count": 39,
   "metadata": {
    "collapsed": false
   },
   "outputs": [
    {
     "data": {
      "text/plain": [
       "22"
      ]
     },
     "execution_count": 39,
     "metadata": {},
     "output_type": "execute_result"
    }
   ],
   "source": [
    "ONE_feature = list(df_dummy.columns.values)\n",
    "len(ONE_feature)"
   ]
  },
  {
   "cell_type": "code",
   "execution_count": 40,
   "metadata": {
    "collapsed": false
   },
   "outputs": [
    {
     "data": {
      "text/plain": [
       "(129487, 121)"
      ]
     },
     "execution_count": 40,
     "metadata": {},
     "output_type": "execute_result"
    }
   ],
   "source": [
    "df2 = pd.concat([df2,df_dummy], axis = 1)\n",
    "df2.shape"
   ]
  },
  {
   "cell_type": "code",
   "execution_count": 41,
   "metadata": {
    "collapsed": false
   },
   "outputs": [
    {
     "name": "stdout",
     "output_type": "stream",
     "text": [
      "['term', 'desc', 'applicationtype', 'issued', 'loanstatus']\n"
     ]
    }
   ],
   "source": [
    "cat_features = [x for x in cat_features if x not in dummy_features]\n",
    "print cat_features"
   ]
  },
  {
   "cell_type": "code",
   "execution_count": 42,
   "metadata": {
    "collapsed": false
   },
   "outputs": [
    {
     "data": {
      "text/plain": [
       "(129487, 121)"
      ]
     },
     "execution_count": 42,
     "metadata": {},
     "output_type": "execute_result"
    }
   ],
   "source": [
    "df2.shape"
   ]
  },
  {
   "cell_type": "markdown",
   "metadata": {},
   "source": [
    "## Select features"
   ]
  },
  {
   "cell_type": "code",
   "execution_count": 43,
   "metadata": {
    "collapsed": false
   },
   "outputs": [
    {
     "data": {
      "text/plain": [
       "68"
      ]
     },
     "execution_count": 43,
     "metadata": {},
     "output_type": "execute_result"
    }
   ],
   "source": [
    "num_features = [x for x in num_features if x not in list(all_null_features)]\n",
    "len(num_features) "
   ]
  },
  {
   "cell_type": "code",
   "execution_count": 44,
   "metadata": {
    "collapsed": false
   },
   "outputs": [
    {
     "data": {
      "text/plain": [
       "['term', 'desc', 'applicationtype', 'issued', 'loanstatus']"
      ]
     },
     "execution_count": 44,
     "metadata": {},
     "output_type": "execute_result"
    }
   ],
   "source": [
    "cat_features = [x for x in cat_features if x not in list(all_null_features)]\n",
    "cat_features"
   ]
  },
  {
   "cell_type": "code",
   "execution_count": 45,
   "metadata": {
    "collapsed": false
   },
   "outputs": [],
   "source": [
    "select_features = num_features + ONE_feature + ['loanstatus'] + ['issued']"
   ]
  },
  {
   "cell_type": "code",
   "execution_count": 46,
   "metadata": {
    "collapsed": false
   },
   "outputs": [
    {
     "data": {
      "text/plain": [
       "(129487, 92)"
      ]
     },
     "execution_count": 46,
     "metadata": {},
     "output_type": "execute_result"
    }
   ],
   "source": [
    "df2 = df2[select_features]\n",
    "df2.shape"
   ]
  },
  {
   "cell_type": "markdown",
   "metadata": {},
   "source": [
    "## Split train/test data"
   ]
  },
  {
   "cell_type": "code",
   "execution_count": 47,
   "metadata": {
    "collapsed": false
   },
   "outputs": [
    {
     "name": "stdout",
     "output_type": "stream",
     "text": [
      "129487\n",
      "(115798, 92)\n",
      "(13689, 92)\n"
     ]
    }
   ],
   "source": [
    "label = df2.loanstatus\n",
    "train = df2.query(\"issued != 'Dec-2014' and issued != 'Nov-2014' \")\n",
    "test = df2.query(\"issued == 'Dec-2014' or issued == 'Nov-2014' \")\n",
    "print len(label)\n",
    "print train.shape\n",
    "print test.shape"
   ]
  },
  {
   "cell_type": "code",
   "execution_count": 65,
   "metadata": {
    "collapsed": false
   },
   "outputs": [
    {
     "data": {
      "text/plain": [
       "0    0.840069\n",
       "1    0.159931\n",
       "Name: loanstatus, dtype: float64"
      ]
     },
     "execution_count": 65,
     "metadata": {},
     "output_type": "execute_result"
    }
   ],
   "source": [
    "df2.loanstatus.value_counts(normalize=True)"
   ]
  },
  {
   "cell_type": "code",
   "execution_count": 68,
   "metadata": {
    "collapsed": false
   },
   "outputs": [],
   "source": [
    "train.to_csv('train.csv',index = False)\n",
    "test.to_csv('test.csv',index = False)"
   ]
  }
 ],
 "metadata": {
  "kernelspec": {
   "display_name": "py36-test",
   "language": "python",
   "name": "py36-test"
  },
  "language_info": {
   "codemirror_mode": {
    "name": "ipython",
    "version": 2
   },
   "file_extension": ".py",
   "mimetype": "text/x-python",
   "name": "python",
   "nbconvert_exporter": "python",
   "pygments_lexer": "ipython2",
   "version": "2.7.13"
  }
 },
 "nbformat": 4,
 "nbformat_minor": 2
}

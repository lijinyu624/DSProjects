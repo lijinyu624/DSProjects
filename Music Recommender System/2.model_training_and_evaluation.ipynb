{
 "cells": [
  {
   "cell_type": "markdown",
   "metadata": {},
   "source": [
    "## model training using Surprise module"
   ]
  },
  {
   "cell_type": "code",
   "execution_count": 46,
   "metadata": {
    "collapsed": false
   },
   "outputs": [
    {
     "name": "stdout",
     "output_type": "stream",
     "text": [
      "finish loading lists pickle...\n",
      "finish rebuilding dictionaries...\n",
      "build dataset...\n"
     ]
    }
   ],
   "source": [
    "from __future__ import (absolute_import, division, print_function, unicode_literals)\n",
    "import os\n",
    "import io\n",
    "\n",
    "from surprise import KNNBaseline, Reader\n",
    "from surprise import Dataset\n",
    "\n",
    "import cPickle as pickle\n",
    "# load pickle of list id to list name\n",
    "id_name_dic = pickle.load(open(\"popular_playlist.pkl\",\"rb\"))\n",
    "#id_name_dic = pickle.load(open(\"playlist.pkl\",\"rb\"))\n",
    "print(\"finish loading lists pickle...\")\n",
    "# rebuild the map dictionary for list\n",
    "name_id_dic = {}\n",
    "for playlist_id in id_name_dic:\n",
    "    name_id_dic[id_name_dic[playlist_id]] = playlist_id\n",
    "print(\"finish rebuilding dictionaries...\")\n",
    "\n",
    "\n",
    "file_path = os.path.expanduser('./popular_music_suprise_format.txt')\n",
    "#file_path = os.path.expanduser('./163_music_suprise_format.txt')\n",
    "\n",
    "# read data\n",
    "reader = Reader(line_format='user item rating timestamp', sep=',')\n",
    "music_data = Dataset.load_from_file(file_path, reader=reader)\n",
    "\n",
    "print(\"build dataset...\")\n",
    "trainset = music_data.build_full_trainset()\n",
    "#sim_options = {'name': 'pearson_baseline', 'user_based': False}"
   ]
  },
  {
   "cell_type": "code",
   "execution_count": 47,
   "metadata": {
    "collapsed": false
   },
   "outputs": [
    {
     "data": {
      "text/plain": [
       "'325440365'"
      ]
     },
     "execution_count": 47,
     "metadata": {},
     "output_type": "execute_result"
    }
   ],
   "source": [
    "id_name_dic.keys()[8]"
   ]
  },
  {
   "cell_type": "code",
   "execution_count": 48,
   "metadata": {
    "collapsed": false
   },
   "outputs": [
    {
     "name": "stdout",
     "output_type": "stream",
     "text": [
      "有没有那么一首歌，会让你轻轻跟着和\n"
     ]
    }
   ],
   "source": [
    "print(id_name_dic[id_name_dic.keys()[8]])"
   ]
  },
  {
   "cell_type": "code",
   "execution_count": 49,
   "metadata": {
    "collapsed": false
   },
   "outputs": [
    {
     "data": {
      "text/plain": [
       "50539"
      ]
     },
     "execution_count": 49,
     "metadata": {},
     "output_type": "execute_result"
    }
   ],
   "source": [
    "trainset.n_items"
   ]
  },
  {
   "cell_type": "code",
   "execution_count": 50,
   "metadata": {
    "collapsed": false
   },
   "outputs": [
    {
     "data": {
      "text/plain": [
       "1076"
      ]
     },
     "execution_count": 50,
     "metadata": {},
     "output_type": "execute_result"
    }
   ],
   "source": [
    "trainset.n_users"
   ]
  },
  {
   "cell_type": "markdown",
   "metadata": {},
   "source": [
    "#### 1.2.1 KNN -- basic collaborative filtering algorithm\n",
    "find neighbors of the lists "
   ]
  },
  {
   "cell_type": "code",
   "execution_count": 51,
   "metadata": {
    "collapsed": false
   },
   "outputs": [
    {
     "name": "stdout",
     "output_type": "stream",
     "text": [
      "Begin Traning...\n",
      "Estimating biases using als...\n",
      "Computing the msd similarity matrix...\n",
      "Done computing similarity matrix.\n",
      "list name 世事无常，唯愿你好\n",
      "listid 306948578\n",
      "inner id 427\n",
      "\n",
      "the list:  世事无常，唯愿你好 》 is most similar with the following lists: \n",
      "\n",
      "【华语】暖心物语 纯白思念 3\n",
      "暗暗作祟| 不甘朋友不敢恋人 15\n",
      "专属你的周杰伦 18\n",
      "「华语歌曲」 23\n",
      "[小风收集]21世纪年轻人的音乐 24\n",
      "十七岁那年，以为能和你永远 28\n",
      "热门流行华语歌曲50首 31\n",
      "最易上手吉他弹唱超精选 40\n",
      "打开任意门，就有对的人 42\n",
      "行车路上，一曲长歌 45\n"
     ]
    }
   ],
   "source": [
    "print(\"Begin Traning...\")\n",
    "#sim_options = {'user_based': False}\n",
    "#algo = KNNBaseline(sim_options=sim_options)\n",
    "algo = KNNBaseline()\n",
    "algo.train(trainset)\n",
    "\n",
    "current_playlist = name_id_dic.keys()[39]\n",
    "print(\"list name\", current_playlist)\n",
    "\n",
    "# find out neighbors\n",
    "# map list name to list id\n",
    "playlist_id = name_id_dic[current_playlist]\n",
    "print(\"listid\", playlist_id)\n",
    "# user id => to_inner_uid\n",
    "playlist_inner_id = algo.trainset.to_inner_uid(playlist_id)\n",
    "print(\"inner id\", playlist_inner_id)\n",
    "\n",
    "playlist_neighbors = algo.get_neighbors(playlist_inner_id, k=10)\n",
    "\n",
    "# map list id to list name\n",
    "# to_raw_uid\n",
    "playlist_neighbors = (algo.trainset.to_raw_uid(inner_id)\n",
    "                       for inner_id in playlist_neighbors)\n",
    "playlist_neighbors = (id_name_dic[playlist_id]\n",
    "                       for playlist_id in playlist_neighbors)\n",
    "\n",
    "print()\n",
    "print(\"the list: \", current_playlist, \"》 is most similar with the following lists: \\n\")\n",
    "for playlist in playlist_neighbors:\n",
    "    print(playlist, algo.trainset.to_inner_uid(name_id_dic[playlist]))"
   ]
  },
  {
   "cell_type": "markdown",
   "metadata": {},
   "source": [
    "#### 1.2.2 songs recommendation (used-based prediction)"
   ]
  },
  {
   "cell_type": "code",
   "execution_count": 7,
   "metadata": {
    "collapsed": false
   },
   "outputs": [
    {
     "name": "stdout",
     "output_type": "stream",
     "text": [
      "finish loadings songs pickle...\n",
      "finish building the map dictionaries...\n"
     ]
    }
   ],
   "source": [
    "import cPickle as pickle\n",
    "# reload songs pickle\n",
    "song_id_name_dic = pickle.load(open(\"popular_song.pkl\",\"rb\"))\n",
    "print(\"finish loadings songs pickle...\")\n",
    "# rebuild the songs map dictionary\n",
    "song_name_id_dic = {}\n",
    "for song_id in song_id_name_dic:\n",
    "    song_name_id_dic[song_id_name_dic[song_id]] = song_id\n",
    "print(\"finish building the map dictionaries...\")"
   ]
  },
  {
   "cell_type": "code",
   "execution_count": 37,
   "metadata": {
    "collapsed": true
   },
   "outputs": [],
   "source": [
    "algo.predict?"
   ]
  },
  {
   "cell_type": "code",
   "execution_count": 8,
   "metadata": {
    "collapsed": false
   },
   "outputs": [
    {
     "name": "stdout",
     "output_type": "stream",
     "text": [
      "user: 4          item: 478        r_ui = 1.00   est = 1.00   {u'was_impossible': False} 听见下雨的声音\t魏如昀\n",
      "user: 4          item: 429        r_ui = 1.00   est = 1.00   {u'was_impossible': False} 梦一场\t萧敬腾\n",
      "user: 4          item: 936        r_ui = 1.00   est = 1.00   {u'was_impossible': False} 干杯\t西瓜Kune\n",
      "user: 4          item: 937        r_ui = 1.00   est = 1.00   {u'was_impossible': False} 给自己的歌 (Live) - live\t纵贯线\n",
      "user: 4          item: 938        r_ui = 1.00   est = 1.00   {u'was_impossible': False} 小半\t陈粒\n",
      "user: 4          item: 939        r_ui = 1.00   est = 1.00   {u'was_impossible': False} 思念是一种病(Live) - live\t张震岳\n",
      "user: 4          item: 940        r_ui = 1.00   est = 1.00   {u'was_impossible': False} 可以不可以\t丁当\n",
      "user: 4          item: 941        r_ui = 1.00   est = 1.00   {u'was_impossible': False} 秋酿\t房东的猫\n",
      "user: 4          item: 616        r_ui = 1.00   est = 1.00   {u'was_impossible': False} 退后\t周杰伦\n",
      "user: 4          item: 942        r_ui = 1.00   est = 1.00   {u'was_impossible': False} 阴天\t莫文蔚\n",
      "user: 4          item: 943        r_ui = 1.00   est = 1.00   {u'was_impossible': False} 痛爱\t容祖儿\n",
      "user: 4          item: 944        r_ui = 1.00   est = 1.00   {u'was_impossible': False} 二十世纪少年(Unplugged) - unplug\tPing Pung\n",
      "user: 4          item: 945        r_ui = 1.00   est = 1.00   {u'was_impossible': False} 前所未见\t陈慧琳\n",
      "user: 4          item: 946        r_ui = 1.00   est = 1.00   {u'was_impossible': False} 追梦赤子心\tGALA\n",
      "user: 4          item: 947        r_ui = 1.00   est = 1.00   {u'was_impossible': False} 如果你也听说\t张惠妹\n",
      "user: 4          item: 948        r_ui = 1.00   est = 1.00   {u'was_impossible': False} 寄生\t吴克羣\n",
      "user: 4          item: 949        r_ui = 1.00   est = 1.00   {u'was_impossible': False} 怎么唱情歌\t刘惜君\n",
      "user: 4          item: 55         r_ui = 1.00   est = 1.00   {u'was_impossible': False} 忽然之间\t巴士那\n",
      "user: 4          item: 950        r_ui = 1.00   est = 1.00   {u'was_impossible': False} 烟霞\t容祖儿\n",
      "user: 4          item: 138        r_ui = 1.00   est = 1.00   {u'was_impossible': False} 小幸运\t双笙\n",
      "user: 4          item: 951        r_ui = 1.00   est = 1.00   {u'was_impossible': False} 错过\t王铮亮\n",
      "user: 4          item: 952        r_ui = 1.00   est = 1.00   {u'was_impossible': False} 泪海\t许茹芸\n",
      "user: 4          item: 453        r_ui = 1.00   est = 1.00   {u'was_impossible': False} 外面的世界\t莫文蔚\n",
      "user: 4          item: 840        r_ui = 1.00   est = 1.00   {u'was_impossible': False} 短发\t梁咏琪\n",
      "user: 4          item: 953        r_ui = 1.00   est = 1.00   {u'was_impossible': False} 遗憾\t方炯镔\n",
      "user: 4          item: 954        r_ui = 1.00   est = 1.00   {u'was_impossible': False} 假如让我说下去\t杨千嬅\n",
      "user: 4          item: 955        r_ui = 1.00   est = 1.00   {u'was_impossible': False} 爱你\t许志安\n",
      "user: 4          item: 956        r_ui = 1.00   est = 1.00   {u'was_impossible': False} 你的手信\t陈慧敏\n",
      "user: 4          item: 352        r_ui = 1.00   est = 1.00   {u'was_impossible': False} 遗憾\t许美静\n",
      "user: 4          item: 957        r_ui = 1.00   est = 1.00   {u'was_impossible': False} 无终\t谢春花\n",
      "user: 4          item: 958        r_ui = 1.00   est = 1.00   {u'was_impossible': False} 骄傲的少年\t南征北战\n",
      "user: 4          item: 959        r_ui = 1.00   est = 1.00   {u'was_impossible': False} 一个人一座城\t曹寅\n",
      "user: 4          item: 960        r_ui = 1.00   est = 1.00   {u'was_impossible': False} 好得很\t麦家瑜\n",
      "user: 4          item: 961        r_ui = 1.00   est = 1.00   {u'was_impossible': False} 终身美丽\t郑秀文\n",
      "user: 4          item: 962        r_ui = 1.00   est = 1.00   {u'was_impossible': False} 倾城\t许美静\n",
      "user: 4          item: 963        r_ui = 1.00   est = 1.00   {u'was_impossible': False} 想要你知道\t许亚童\n",
      "user: 4          item: 964        r_ui = 1.00   est = 1.00   {u'was_impossible': False} 忆她\t赵烁\n",
      "user: 4          item: 965        r_ui = 1.00   est = 1.00   {u'was_impossible': False} 边走边唱\t李荣浩\n",
      "user: 4          item: 966        r_ui = 1.00   est = 1.00   {u'was_impossible': False} 再见只是陌生人\t庄心妍\n",
      "user: 4          item: 967        r_ui = 1.00   est = 1.00   {u'was_impossible': False} 每条伤心的大街\t飘乐队\n",
      "user: 4          item: 968        r_ui = 1.00   est = 1.00   {u'was_impossible': False} 死结\t李玖哲\n",
      "user: 4          item: 969        r_ui = 1.00   est = 1.00   {u'was_impossible': False} 我是你的影子\tXun(易硕成)\n",
      "user: 4          item: 970        r_ui = 1.00   est = 1.00   {u'was_impossible': False} 孤儿仔\t陈奕迅\n",
      "user: 4          item: 971        r_ui = 1.00   est = 1.00   {u'was_impossible': False} 霜雪千年\t双笙\n",
      "user: 4          item: 972        r_ui = 1.00   est = 1.00   {u'was_impossible': False} 想起小时候\t前冲\n",
      "user: 4          item: 755        r_ui = 1.00   est = 1.00   {u'was_impossible': False} 给自己的情书\t王菲\n",
      "user: 4          item: 279        r_ui = 1.00   est = 1.00   {u'was_impossible': False} 情非得已\t庾澄庆\n",
      "user: 4          item: 973        r_ui = 1.00   est = 1.00   {u'was_impossible': False} 听说爱情回来过(Live) - live\t张敬轩\n",
      "user: 4          item: 715        r_ui = 1.00   est = 1.00   {u'was_impossible': False} 至少还有你\t林忆莲\n",
      "user: 4          item: 974        r_ui = 1.00   est = 1.00   {u'was_impossible': False} 致自己\t齐一\n",
      "user: 4          item: 975        r_ui = 1.00   est = 1.00   {u'was_impossible': False} 可惜我不是他\tXun\n",
      "user: 4          item: 976        r_ui = 1.00   est = 1.00   {u'was_impossible': False} 恋人心\t魏新雨\n",
      "user: 4          item: 977        r_ui = 1.00   est = 1.00   {u'was_impossible': False} 美好事物\t房东的猫\n",
      "user: 4          item: 978        r_ui = 1.00   est = 1.00   {u'was_impossible': False} 你就要走了\t花粥\n",
      "user: 4          item: 979        r_ui = 1.00   est = 1.00   {u'was_impossible': False} 一半\t薛之谦\n",
      "user: 4          item: 259        r_ui = 1.00   est = 1.00   {u'was_impossible': False} 斑马斑马 - 翻唱\t房东的猫\n",
      "user: 4          item: 980        r_ui = 1.00   est = 1.00   {u'was_impossible': False} 还想听你的故事\t谢春花\n",
      "user: 4          item: 981        r_ui = 1.00   est = 1.00   {u'was_impossible': False} 房间\t刘瑞琦\n",
      "user: 4          item: 982        r_ui = 1.00   est = 1.00   {u'was_impossible': False} 狮子座(live)\t曾轶可\n",
      "user: 4          item: 611        r_ui = 1.00   est = 1.00   {u'was_impossible': False} 青花瓷\t周杰伦\n",
      "user: 4          item: 983        r_ui = 1.00   est = 1.00   {u'was_impossible': False} 目前\t洪卓立\n",
      "user: 4          item: 984        r_ui = 1.00   est = 1.00   {u'was_impossible': False} 月球下的人\t李幸倪\n",
      "user: 4          item: 985        r_ui = 1.00   est = 1.00   {u'was_impossible': False} 明明\t钟一宪\n",
      "user: 4          item: 986        r_ui = 1.00   est = 1.00   {u'was_impossible': False} 一棵会开花的树(demo)\t谢春花\n",
      "user: 4          item: 987        r_ui = 1.00   est = 1.00   {u'was_impossible': False} 借我\t谢春花\n",
      "user: 4          item: 209        r_ui = 1.00   est = 1.00   {u'was_impossible': False} 丑八怪\t薛之谦\n",
      "user: 4          item: 988        r_ui = 1.00   est = 1.00   {u'was_impossible': False} 习惯失恋\t容祖儿\n",
      "user: 4          item: 989        r_ui = 1.00   est = 1.00   {u'was_impossible': False} 红玫瑰\t陈奕迅\n",
      "user: 4          item: 192        r_ui = 1.00   est = 1.00   {u'was_impossible': False} 漂洋过海来看你\t周深\n",
      "user: 4          item: 990        r_ui = 1.00   est = 1.00   {u'was_impossible': False} 那女孩对我说\t黄义达\n",
      "user: 4          item: 991        r_ui = 1.00   est = 1.00   {u'was_impossible': False} 后来\t群星\n",
      "user: 4          item: 992        r_ui = 1.00   est = 1.00   {u'was_impossible': False} 喜剧之王\t李荣浩\n",
      "user: 4          item: 993        r_ui = 1.00   est = 1.00   {u'was_impossible': False} 爱你\t陈芳语\n",
      "user: 4          item: 994        r_ui = 1.00   est = 1.00   {u'was_impossible': False} 我爱你\t卢广仲\n",
      "user: 4          item: 995        r_ui = 1.00   est = 1.00   {u'was_impossible': False} 遇见你的时候所有星星都落到我头上\t高姗\n",
      "user: 4          item: 996        r_ui = 1.00   est = 1.00   {u'was_impossible': False} 一身诗意千寻瀑\t不才\n",
      "user: 4          item: 997        r_ui = 1.00   est = 1.00   {u'was_impossible': False} 你在烦恼什么\t苏打绿\n",
      "user: 4          item: 998        r_ui = 1.00   est = 1.00   {u'was_impossible': False} 我为自己代言\t魏晨\n",
      "user: 4          item: 141        r_ui = 1.00   est = 1.00   {u'was_impossible': False} 夜空中最亮的星\t逃跑计划\n",
      "user: 4          item: 999        r_ui = 1.00   est = 1.00   {u'was_impossible': False} 阴天快乐\t陈奕迅\n",
      "user: 4          item: 132        r_ui = 1.00   est = 1.00   {u'was_impossible': False} 原谅\t张玉华\n",
      "user: 4          item: 1000       r_ui = 1.00   est = 1.00   {u'was_impossible': False} 放过自己\t庄心妍\n",
      "user: 4          item: 1001       r_ui = 1.00   est = 1.00   {u'was_impossible': False} 最好的我\t龚芝怡\n",
      "user: 4          item: 317        r_ui = 1.00   est = 1.00   {u'was_impossible': False} 爱一点\t莫艳琳\n",
      "user: 4          item: 1002       r_ui = 1.00   est = 1.00   {u'was_impossible': False} 陪我看日出\t蔡淳佳\n",
      "user: 4          item: 1003       r_ui = 1.00   est = 1.00   {u'was_impossible': False} 幸福了 然后呢\tA-Lin\n",
      "user: 4          item: 1004       r_ui = 1.00   est = 1.00   {u'was_impossible': False} 耿耿于怀\t麦浚龙\n",
      "user: 4          item: 1005       r_ui = 1.00   est = 1.00   {u'was_impossible': False} 不说出的温柔\t范逸臣\n",
      "user: 4          item: 1006       r_ui = 1.00   est = 1.00   {u'was_impossible': False} 初爱\t杨宗纬\n",
      "user: 4          item: 1007       r_ui = 1.00   est = 1.00   {u'was_impossible': False} 只不过是\t花粥\n",
      "user: 4          item: 1008       r_ui = 1.00   est = 1.00   {u'was_impossible': False} 理想三旬\t陈鸿宇\n",
      "user: 4          item: 137        r_ui = 1.00   est = 1.00   {u'was_impossible': False} 小幸运（Cover 田馥甄）\t金玟岐\n",
      "user: 4          item: 1009       r_ui = 1.00   est = 1.00   {u'was_impossible': False} 那又如何\t应嘉俐\n",
      "user: 4          item: 1010       r_ui = 1.00   est = 1.00   {u'was_impossible': False} 小相思\t花粥\n",
      "user: 4          item: 1011       r_ui = 1.00   est = 1.00   {u'was_impossible': False} 我不难过\t孙燕姿\n",
      "user: 4          item: 1012       r_ui = 1.00   est = 1.00   {u'was_impossible': False} 你看不到的天空\t蔡旻佑\n",
      "user: 4          item: 1013       r_ui = 1.00   est = 1.00   {u'was_impossible': False} 耿耿于怀\t王笑文\n",
      "user: 4          item: 1014       r_ui = 1.00   est = 1.00   {u'was_impossible': False} 试探\t王般若\n",
      "user: 4          item: 1015       r_ui = 1.00   est = 1.00   {u'was_impossible': False} 有你陪伴的夏天\t黄婧\n",
      "user: 4          item: 1016       r_ui = 1.00   est = 1.00   {u'was_impossible': False} 不说再见\t好妹妹乐队\n"
     ]
    }
   ],
   "source": [
    "# test the inner id\n",
    "user_inner_id = 4\n",
    "user_rating = trainset.ur[user_inner_id]\n",
    "items = map(lambda x:x[0], user_rating)\n",
    "for song in items:\n",
    "    print(algo.predict(user_inner_id, song, r_ui=1), song_id_name_dic[algo.trainset.to_raw_iid(song)])"
   ]
  },
  {
   "cell_type": "markdown",
   "metadata": {},
   "source": [
    "### 2. SVD algorithm"
   ]
  },
  {
   "cell_type": "code",
   "execution_count": 14,
   "metadata": {
    "collapsed": false
   },
   "outputs": [
    {
     "data": {
      "text/plain": [
       "<surprise.prediction_algorithms.matrix_factorization.NMF at 0xde6a240>"
      ]
     },
     "execution_count": 14,
     "metadata": {},
     "output_type": "execute_result"
    }
   ],
   "source": [
    "# NMF: A collaborative filtering algorithm based on Non-negative Matrix Factorization.\n",
    "from surprise import NMF, evaluate\n",
    "from surprise import Dataset\n",
    "\n",
    "file_path = os.path.expanduser('./popular_music_suprise_format.txt')\n",
    "# read data\n",
    "reader = Reader(line_format='user item rating timestamp', sep=',')\n",
    "music_data = Dataset.load_from_file(file_path, reader=reader)\n",
    "\n",
    "# build full dataset\n",
    "algo = NMF()\n",
    "trainset = music_data.build_full_trainset()\n",
    "algo.train(trainset)"
   ]
  },
  {
   "cell_type": "code",
   "execution_count": 15,
   "metadata": {
    "collapsed": false
   },
   "outputs": [
    {
     "name": "stdout",
     "output_type": "stream",
     "text": [
      "user: 400232387  item: 27724082   r_ui = 1.00   est = 1.00   {u'was_impossible': False} 听见下雨的声音\t魏如昀\n",
      "user: 400232387  item: 167916     r_ui = 1.00   est = 1.00   {u'was_impossible': False} 梦一场\t萧敬腾\n",
      "user: 400232387  item: 408307325  r_ui = 1.00   est = 1.00   {u'was_impossible': False} 干杯\t西瓜Kune\n",
      "user: 400232387  item: 394618     r_ui = 1.00   est = 1.00   {u'was_impossible': False} 给自己的歌 (Live) - live\t纵贯线\n",
      "user: 400232387  item: 421423806  r_ui = 1.00   est = 1.00   {u'was_impossible': False} 小半\t陈粒\n",
      "user: 400232387  item: 394485     r_ui = 1.00   est = 1.00   {u'was_impossible': False} 思念是一种病(Live) - live\t张震岳\n",
      "user: 400232387  item: 5239563    r_ui = 1.00   est = 1.00   {u'was_impossible': False} 可以不可以\t丁当\n",
      "user: 400232387  item: 30635613   r_ui = 1.00   est = 1.00   {u'was_impossible': False} 秋酿\t房东的猫\n",
      "user: 400232387  item: 185884     r_ui = 1.00   est = 1.00   {u'was_impossible': False} 退后\t周杰伦\n",
      "user: 400232387  item: 276936     r_ui = 1.00   est = 1.00   {u'was_impossible': False} 阴天\t莫文蔚\n",
      "user: 400232387  item: 27867458   r_ui = 1.00   est = 1.00   {u'was_impossible': False} 痛爱\t容祖儿\n",
      "user: 400232387  item: 370776     r_ui = 1.00   est = 1.00   {u'was_impossible': False} 二十世纪少年(Unplugged) - unplug\tPing Pung\n",
      "user: 400232387  item: 213673     r_ui = 1.00   est = 1.00   {u'was_impossible': False} 前所未见\t陈慧琳\n",
      "user: 400232387  item: 355992     r_ui = 1.00   est = 1.00   {u'was_impossible': False} 追梦赤子心\tGALA\n",
      "user: 400232387  item: 326904     r_ui = 1.00   est = 1.00   {u'was_impossible': False} 如果你也听说\t张惠妹\n",
      "user: 400232387  item: 156099     r_ui = 1.00   est = 1.00   {u'was_impossible': False} 寄生\t吴克羣\n",
      "user: 400232387  item: 255219     r_ui = 1.00   est = 1.00   {u'was_impossible': False} 怎么唱情歌\t刘惜君\n",
      "user: 400232387  item: 33314587   r_ui = 1.00   est = 1.00   {u'was_impossible': False} 忽然之间\t巴士那\n",
      "user: 400232387  item: 287744     r_ui = 1.00   est = 1.00   {u'was_impossible': False} 烟霞\t容祖儿\n",
      "user: 400232387  item: 409650841  r_ui = 1.00   est = 1.00   {u'was_impossible': False} 小幸运\t双笙\n",
      "user: 400232387  item: 165005     r_ui = 1.00   est = 1.00   {u'was_impossible': False} 错过\t王铮亮\n",
      "user: 400232387  item: 307594     r_ui = 1.00   est = 1.00   {u'was_impossible': False} 泪海\t许茹芸\n",
      "user: 400232387  item: 276904     r_ui = 1.00   est = 1.00   {u'was_impossible': False} 外面的世界\t莫文蔚\n",
      "user: 400232387  item: 255973     r_ui = 1.00   est = 1.00   {u'was_impossible': False} 短发\t梁咏琪\n",
      "user: 400232387  item: 82561      r_ui = 1.00   est = 1.00   {u'was_impossible': False} 遗憾\t方炯镔\n",
      "user: 400232387  item: 316637     r_ui = 1.00   est = 1.00   {u'was_impossible': False} 假如让我说下去\t杨千嬅\n",
      "user: 400232387  item: 169617     r_ui = 1.00   est = 1.00   {u'was_impossible': False} 爱你\t许志安\n",
      "user: 400232387  item: 400074175  r_ui = 1.00   est = 1.00   {u'was_impossible': False} 你的手信\t陈慧敏\n",
      "user: 400232387  item: 307018     r_ui = 1.00   est = 1.00   {u'was_impossible': False} 遗憾\t许美静\n",
      "user: 400232387  item: 417833356  r_ui = 1.00   est = 1.00   {u'was_impossible': False} 无终\t谢春花\n",
      "user: 400232387  item: 408332757  r_ui = 1.00   est = 1.00   {u'was_impossible': False} 骄傲的少年\t南征北战\n",
      "user: 400232387  item: 26609894   r_ui = 1.00   est = 1.00   {u'was_impossible': False} 一个人一座城\t曹寅\n",
      "user: 400232387  item: 26418879   r_ui = 1.00   est = 1.00   {u'was_impossible': False} 好得很\t麦家瑜\n",
      "user: 400232387  item: 328169     r_ui = 1.00   est = 1.00   {u'was_impossible': False} 终身美丽\t郑秀文\n",
      "user: 400232387  item: 306709     r_ui = 1.00   est = 1.00   {u'was_impossible': False} 倾城\t许美静\n",
      "user: 400232387  item: 32507551   r_ui = 1.00   est = 1.00   {u'was_impossible': False} 想要你知道\t许亚童\n",
      "user: 400232387  item: 28661071   r_ui = 1.00   est = 1.00   {u'was_impossible': False} 忆她\t赵烁\n",
      "user: 400232387  item: 31134197   r_ui = 1.00   est = 1.00   {u'was_impossible': False} 边走边唱\t李荣浩\n",
      "user: 400232387  item: 36199595   r_ui = 1.00   est = 1.00   {u'was_impossible': False} 再见只是陌生人\t庄心妍\n",
      "user: 400232387  item: 370577     r_ui = 1.00   est = 1.00   {u'was_impossible': False} 每条伤心的大街\t飘乐队\n",
      "user: 400232387  item: 109174     r_ui = 1.00   est = 1.00   {u'was_impossible': False} 死结\t李玖哲\n",
      "user: 400232387  item: 413834900  r_ui = 1.00   est = 1.00   {u'was_impossible': False} 我是你的影子\tXun(易硕成)\n",
      "user: 400232387  item: 67032      r_ui = 1.00   est = 1.00   {u'was_impossible': False} 孤儿仔\t陈奕迅\n",
      "user: 400232387  item: 409650851  r_ui = 1.00   est = 1.00   {u'was_impossible': False} 霜雪千年\t双笙\n",
      "user: 400232387  item: 32334601   r_ui = 1.00   est = 1.00   {u'was_impossible': False} 想起小时候\t前冲\n",
      "user: 400232387  item: 299604     r_ui = 1.00   est = 1.00   {u'was_impossible': False} 给自己的情书\t王菲\n",
      "user: 400232387  item: 176999     r_ui = 1.00   est = 1.00   {u'was_impossible': False} 情非得已\t庾澄庆\n",
      "user: 400232387  item: 188815     r_ui = 1.00   est = 1.00   {u'was_impossible': False} 听说爱情回来过(Live) - live\t张敬轩\n",
      "user: 400232387  item: 256468     r_ui = 1.00   est = 1.00   {u'was_impossible': False} 至少还有你\t林忆莲\n",
      "user: 400232387  item: 35476048   r_ui = 1.00   est = 1.00   {u'was_impossible': False} 致自己\t齐一\n",
      "user: 400232387  item: 405343398  r_ui = 1.00   est = 1.00   {u'was_impossible': False} 可惜我不是他\tXun\n",
      "user: 400232387  item: 28668855   r_ui = 1.00   est = 1.00   {u'was_impossible': False} 恋人心\t魏新雨\n",
      "user: 400232387  item: 417596830  r_ui = 1.00   est = 1.00   {u'was_impossible': False} 美好事物\t房东的猫\n",
      "user: 400232387  item: 31284039   r_ui = 1.00   est = 1.00   {u'was_impossible': False} 你就要走了\t花粥\n",
      "user: 400232387  item: 35528482   r_ui = 1.00   est = 1.00   {u'was_impossible': False} 一半\t薛之谦\n",
      "user: 400232387  item: 30814948   r_ui = 1.00   est = 1.00   {u'was_impossible': False} 斑马斑马 - 翻唱\t房东的猫\n",
      "user: 400232387  item: 413829873  r_ui = 1.00   est = 1.00   {u'was_impossible': False} 还想听你的故事\t谢春花\n",
      "user: 400232387  item: 27867140   r_ui = 1.00   est = 1.00   {u'was_impossible': False} 房间\t刘瑞琦\n",
      "user: 400232387  item: 28936273   r_ui = 1.00   est = 1.00   {u'was_impossible': False} 狮子座(live)\t曾轶可\n",
      "user: 400232387  item: 185811     r_ui = 1.00   est = 1.00   {u'was_impossible': False} 青花瓷\t周杰伦\n",
      "user: 400232387  item: 95610      r_ui = 1.00   est = 1.00   {u'was_impossible': False} 目前\t洪卓立\n",
      "user: 400232387  item: 407927304  r_ui = 1.00   est = 1.00   {u'was_impossible': False} 月球下的人\t李幸倪\n",
      "user: 400232387  item: 5240138    r_ui = 1.00   est = 1.00   {u'was_impossible': False} 明明\t钟一宪\n",
      "user: 400232387  item: 33872719   r_ui = 1.00   est = 1.00   {u'was_impossible': False} 一棵会开花的树(demo)\t谢春花\n",
      "user: 400232387  item: 408814900  r_ui = 1.00   est = 1.00   {u'was_impossible': False} 借我\t谢春花\n",
      "user: 400232387  item: 27808044   r_ui = 1.00   est = 1.00   {u'was_impossible': False} 丑八怪\t薛之谦\n",
      "user: 400232387  item: 288075     r_ui = 1.00   est = 1.00   {u'was_impossible': False} 习惯失恋\t容祖儿\n",
      "user: 400232387  item: 65126      r_ui = 1.00   est = 1.00   {u'was_impossible': False} 红玫瑰\t陈奕迅\n",
      "user: 400232387  item: 30903117   r_ui = 1.00   est = 1.00   {u'was_impossible': False} 漂洋过海来看你\t周深\n",
      "user: 400232387  item: 92939      r_ui = 1.00   est = 1.00   {u'was_impossible': False} 那女孩对我说\t黄义达\n",
      "user: 400232387  item: 406730941  r_ui = 1.00   est = 1.00   {u'was_impossible': False} 后来\t群星\n",
      "user: 400232387  item: 29710981   r_ui = 1.00   est = 1.00   {u'was_impossible': False} 喜剧之王\t李荣浩\n",
      "user: 400232387  item: 22852057   r_ui = 1.00   est = 1.00   {u'was_impossible': False} 爱你\t陈芳语\n",
      "user: 400232387  item: 109628     r_ui = 1.00   est = 1.00   {u'was_impossible': False} 我爱你\t卢广仲\n",
      "user: 400232387  item: 30039685   r_ui = 1.00   est = 1.00   {u'was_impossible': False} 遇见你的时候所有星星都落到我头上\t高姗\n",
      "user: 400232387  item: 28798308   r_ui = 1.00   est = 1.00   {u'was_impossible': False} 一身诗意千寻瀑\t不才\n",
      "user: 400232387  item: 374621     r_ui = 1.00   est = 1.00   {u'was_impossible': False} 你在烦恼什么\t苏打绿\n",
      "user: 400232387  item: 27955777   r_ui = 1.00   est = 1.00   {u'was_impossible': False} 我为自己代言\t魏晨\n",
      "user: 400232387  item: 25706282   r_ui = 1.00   est = 1.00   {u'was_impossible': False} 夜空中最亮的星\t逃跑计划\n",
      "user: 400232387  item: 28563317   r_ui = 1.00   est = 1.00   {u'was_impossible': False} 阴天快乐\t陈奕迅\n",
      "user: 400232387  item: 329371     r_ui = 1.00   est = 1.00   {u'was_impossible': False} 原谅\t张玉华\n",
      "user: 400232387  item: 36270514   r_ui = 1.00   est = 1.00   {u'was_impossible': False} 放过自己\t庄心妍\n",
      "user: 400232387  item: 238114     r_ui = 1.00   est = 1.00   {u'was_impossible': False} 最好的我\t龚芝怡\n",
      "user: 400232387  item: 276035     r_ui = 1.00   est = 1.00   {u'was_impossible': False} 爱一点\t莫艳琳\n",
      "user: 400232387  item: 210326     r_ui = 1.00   est = 1.00   {u'was_impossible': False} 陪我看日出\t蔡淳佳\n",
      "user: 400232387  item: 25657348   r_ui = 1.00   est = 1.00   {u'was_impossible': False} 幸福了 然后呢\tA-Lin\n",
      "user: 400232387  item: 135355     r_ui = 1.00   est = 1.00   {u'was_impossible': False} 耿耿于怀\t麦浚龙\n",
      "user: 400232387  item: 81836      r_ui = 1.00   est = 1.00   {u'was_impossible': False} 不说出的温柔\t范逸臣\n",
      "user: 400232387  item: 26075548   r_ui = 1.00   est = 1.00   {u'was_impossible': False} 初爱\t杨宗纬\n",
      "user: 400232387  item: 31284032   r_ui = 1.00   est = 1.00   {u'was_impossible': False} 只不过是\t花粥\n",
      "user: 400232387  item: 31445772   r_ui = 1.00   est = 1.00   {u'was_impossible': False} 理想三旬\t陈鸿宇\n",
      "user: 400232387  item: 41665696   r_ui = 1.00   est = 1.00   {u'was_impossible': False} 小幸运（Cover 田馥甄）\t金玟岐\n",
      "user: 400232387  item: 325336     r_ui = 1.00   est = 1.00   {u'was_impossible': False} 那又如何\t应嘉俐\n",
      "user: 400232387  item: 31284031   r_ui = 1.00   est = 1.00   {u'was_impossible': False} 小相思\t花粥\n",
      "user: 400232387  item: 287398     r_ui = 1.00   est = 1.00   {u'was_impossible': False} 我不难过\t孙燕姿\n",
      "user: 400232387  item: 65601      r_ui = 1.00   est = 1.00   {u'was_impossible': False} 你看不到的天空\t蔡旻佑\n",
      "user: 400232387  item: 407679465  r_ui = 1.00   est = 1.00   {u'was_impossible': False} 耿耿于怀\t王笑文\n",
      "user: 400232387  item: 416890227  r_ui = 1.00   est = 1.00   {u'was_impossible': False} 试探\t王般若\n",
      "user: 400232387  item: 28606499   r_ui = 1.00   est = 1.00   {u'was_impossible': False} 有你陪伴的夏天\t黄婧\n",
      "user: 400232387  item: 399354289  r_ui = 1.00   est = 1.00   {u'was_impossible': False} 不说再见\t好妹妹乐队\n"
     ]
    }
   ],
   "source": [
    "user_inner_id = 4\n",
    "user_rating = trainset.ur[user_inner_id]\n",
    "items = map(lambda x:x[0], user_rating)\n",
    "for song in items:\n",
    "    print(algo.predict(algo.trainset.to_raw_uid(user_inner_id), algo.trainset.to_raw_iid(song), r_ui=1), song_id_name_dic[algo.trainset.to_raw_iid(song)])"
   ]
  },
  {
   "cell_type": "markdown",
   "metadata": {},
   "source": [
    "## Save the model"
   ]
  },
  {
   "cell_type": "code",
   "execution_count": 16,
   "metadata": {
    "collapsed": true
   },
   "outputs": [],
   "source": [
    "import surprise\n",
    "surprise.dump.dump('./recommendation.model', algo=algo)\n",
    "# reload by\n",
    "#algo = surprise.dump.load('./recommendation.model')"
   ]
  },
  {
   "cell_type": "markdown",
   "metadata": {},
   "source": [
    "## Comparison of different models"
   ]
  },
  {
   "cell_type": "markdown",
   "metadata": {},
   "source": [
    "### load the data"
   ]
  },
  {
   "cell_type": "code",
   "execution_count": 17,
   "metadata": {
    "collapsed": true
   },
   "outputs": [],
   "source": [
    "import os\n",
    "from surprise import Reader, Dataset\n",
    "# specify the path\n",
    "file_path = os.path.expanduser('./popular_music_suprise_format.txt')\n",
    "# read data\n",
    "reader = Reader(line_format='user item rating timestamp', sep=',')\n",
    "music_data = Dataset.load_from_file(file_path, reader=reader)\n",
    "# split the data into 5 folds\n",
    "music_data.split(n_folds=5)"
   ]
  },
  {
   "cell_type": "code",
   "execution_count": 18,
   "metadata": {
    "collapsed": false
   },
   "outputs": [
    {
     "data": {
      "text/plain": [
       "[(u'715998294', u'375282', 1.0, u'1300000'),\n",
       " (u'36011068', u'185888', 1.0, u'1300000'),\n",
       " (u'53679351', u'355995', 1.0, u'1300000'),\n",
       " (u'8178769', u'375043', 1.0, u'1300000'),\n",
       " (u'79510350', u'254460', 1.0, u'1300000'),\n",
       " (u'63781839', u'27671258', 1.0, u'1300000'),\n",
       " (u'436300144', u'5282212', 1.0, u'1300000'),\n",
       " (u'101051505', u'32977064', 1.0, u'1300000'),\n",
       " (u'149264684', u'186816', 1.0, u'1300000'),\n",
       " (u'91208224', u'600190', 1.0, u'1300000'),\n",
       " (u'59394836', u'31654747', 1.0, u'1300000'),\n",
       " (u'58631872', u'374981', 1.0, u'1300000'),\n",
       " (u'389762547', u'307737', 1.0, u'1300000'),\n",
       " (u'405576826', u'421091657', 1.0, u'1300000'),\n",
       " (u'313037986', u'36664267', 1.0, u'1300000'),\n",
       " (u'389762547', u'33361858', 1.0, u'1300000'),\n",
       " (u'306435432', u'25641369', 1.0, u'1300000'),\n",
       " (u'324789304', u'326904', 1.0, u'1300000'),\n",
       " (u'87225065', u'28762176', 1.0, u'1300000'),\n",
       " (u'150974834', u'185994', 1.0, u'1300000')]"
      ]
     },
     "execution_count": 18,
     "metadata": {},
     "output_type": "execute_result"
    }
   ],
   "source": [
    "music_data.raw_ratings[:20]"
   ]
  },
  {
   "cell_type": "code",
   "execution_count": null,
   "metadata": {
    "collapsed": false
   },
   "outputs": [],
   "source": [
    "### NormalPredictor\n",
    "#from surprise import NormalPredictor, evaluate\n",
    "#algo = NormalPredictor()\n",
    "#perf = evaluate(algo, music_data, measures=['RMSE', 'MAE'])"
   ]
  },
  {
   "cell_type": "code",
   "execution_count": 20,
   "metadata": {
    "collapsed": false
   },
   "outputs": [
    {
     "name": "stdout",
     "output_type": "stream",
     "text": [
      "Evaluating RMSE, MAE of algorithm BaselineOnly.\n",
      "\n",
      "------------\n",
      "Fold 1\n",
      "Estimating biases using als...\n",
      "RMSE: 0.0000\n",
      "MAE:  0.0000\n",
      "------------\n",
      "Fold 2\n",
      "Estimating biases using als...\n",
      "RMSE: 0.0000\n",
      "MAE:  0.0000\n",
      "------------\n",
      "Fold 3\n",
      "Estimating biases using als...\n",
      "RMSE: 0.0000\n",
      "MAE:  0.0000\n",
      "------------\n",
      "Fold 4\n",
      "Estimating biases using als...\n",
      "RMSE: 0.0000\n",
      "MAE:  0.0000\n",
      "------------\n",
      "Fold 5\n",
      "Estimating biases using als...\n",
      "RMSE: 0.0000\n",
      "MAE:  0.0000\n",
      "------------\n",
      "------------\n",
      "Mean RMSE: 0.0000\n",
      "Mean MAE : 0.0000\n",
      "------------\n",
      "------------\n"
     ]
    }
   ],
   "source": [
    "### BaselineOnly\n",
    "from surprise import BaselineOnly, evaluate\n",
    "algo = BaselineOnly()\n",
    "perf = evaluate(algo, music_data, measures=['RMSE', 'MAE'])"
   ]
  },
  {
   "cell_type": "code",
   "execution_count": 36,
   "metadata": {
    "collapsed": true
   },
   "outputs": [],
   "source": [
    "KNNBasic?"
   ]
  },
  {
   "cell_type": "code",
   "execution_count": 35,
   "metadata": {
    "collapsed": false
   },
   "outputs": [
    {
     "name": "stdout",
     "output_type": "stream",
     "text": [
      "Evaluating RMSE, MAE of algorithm KNNBasic.\n",
      "\n",
      "------------\n",
      "Fold 1\n",
      "Computing the msd similarity matrix...\n",
      "Done computing similarity matrix.\n",
      "RMSE: 0.0000\n",
      "MAE:  0.0000\n",
      "------------\n",
      "Fold 2\n",
      "Computing the msd similarity matrix...\n",
      "Done computing similarity matrix.\n",
      "RMSE: 0.0000\n",
      "MAE:  0.0000\n",
      "------------\n",
      "Fold 3\n",
      "Computing the msd similarity matrix...\n",
      "Done computing similarity matrix.\n",
      "RMSE: 0.0000\n",
      "MAE:  0.0000\n",
      "------------\n",
      "Fold 4\n",
      "Computing the msd similarity matrix...\n",
      "Done computing similarity matrix.\n",
      "RMSE: 0.0000\n",
      "MAE:  0.0000\n",
      "------------\n",
      "Fold 5\n",
      "Computing the msd similarity matrix...\n",
      "Done computing similarity matrix.\n",
      "RMSE: 0.0000\n",
      "MAE:  0.0000\n",
      "------------\n",
      "------------\n",
      "Mean RMSE: 0.0000\n",
      "Mean MAE : 0.0000\n",
      "------------\n",
      "------------\n"
     ]
    }
   ],
   "source": [
    "### KNNBasic\n",
    "from surprise import KNNBasic, evaluate\n",
    "algo = KNNBasic()\n",
    "perf = evaluate(algo, music_data, measures=['RMSE', 'MAE'])"
   ]
  },
  {
   "cell_type": "code",
   "execution_count": 22,
   "metadata": {
    "collapsed": false
   },
   "outputs": [
    {
     "name": "stdout",
     "output_type": "stream",
     "text": [
      "Evaluating RMSE, MAE of algorithm KNNWithMeans.\n",
      "\n",
      "------------\n",
      "Fold 1\n",
      "Computing the msd similarity matrix...\n",
      "Done computing similarity matrix.\n",
      "RMSE: 0.0000\n",
      "MAE:  0.0000\n",
      "------------\n",
      "Fold 2\n",
      "Computing the msd similarity matrix...\n",
      "Done computing similarity matrix.\n",
      "RMSE: 0.0000\n",
      "MAE:  0.0000\n",
      "------------\n",
      "Fold 3\n",
      "Computing the msd similarity matrix...\n",
      "Done computing similarity matrix.\n",
      "RMSE: 0.0000\n",
      "MAE:  0.0000\n",
      "------------\n",
      "Fold 4\n",
      "Computing the msd similarity matrix...\n",
      "Done computing similarity matrix.\n",
      "RMSE: 0.0000\n",
      "MAE:  0.0000\n",
      "------------\n",
      "Fold 5\n",
      "Computing the msd similarity matrix...\n",
      "Done computing similarity matrix.\n",
      "RMSE: 0.0000\n",
      "MAE:  0.0000\n",
      "------------\n",
      "------------\n",
      "Mean RMSE: 0.0000\n",
      "Mean MAE : 0.0000\n",
      "------------\n",
      "------------\n"
     ]
    }
   ],
   "source": [
    "### KNNWithMeans\n",
    "from surprise import KNNWithMeans, evaluate\n",
    "algo = KNNWithMeans()\n",
    "perf = evaluate(algo, music_data, measures=['RMSE', 'MAE'])"
   ]
  },
  {
   "cell_type": "code",
   "execution_count": 23,
   "metadata": {
    "collapsed": false
   },
   "outputs": [
    {
     "name": "stdout",
     "output_type": "stream",
     "text": [
      "Evaluating RMSE, MAE of algorithm KNNBaseline.\n",
      "\n",
      "------------\n",
      "Fold 1\n",
      "Estimating biases using als...\n",
      "Computing the msd similarity matrix...\n",
      "Done computing similarity matrix.\n",
      "RMSE: 0.0000\n",
      "MAE:  0.0000\n",
      "------------\n",
      "Fold 2\n",
      "Estimating biases using als...\n",
      "Computing the msd similarity matrix...\n",
      "Done computing similarity matrix.\n",
      "RMSE: 0.0000\n",
      "MAE:  0.0000\n",
      "------------\n",
      "Fold 3\n",
      "Estimating biases using als...\n",
      "Computing the msd similarity matrix...\n",
      "Done computing similarity matrix.\n",
      "RMSE: 0.0000\n",
      "MAE:  0.0000\n",
      "------------\n",
      "Fold 4\n",
      "Estimating biases using als...\n",
      "Computing the msd similarity matrix...\n",
      "Done computing similarity matrix.\n",
      "RMSE: 0.0000\n",
      "MAE:  0.0000\n",
      "------------\n",
      "Fold 5\n",
      "Estimating biases using als...\n",
      "Computing the msd similarity matrix...\n",
      "Done computing similarity matrix.\n",
      "RMSE: 0.0000\n",
      "MAE:  0.0000\n",
      "------------\n",
      "------------\n",
      "Mean RMSE: 0.0000\n",
      "Mean MAE : 0.0000\n",
      "------------\n",
      "------------\n"
     ]
    }
   ],
   "source": [
    "### KNNbaseline\n",
    "from surprise import KNNBaseline, evaluate\n",
    "algo = KNNBaseline()\n",
    "perf = evaluate(algo, music_data, measures=['RMSE', 'MAE'])"
   ]
  },
  {
   "cell_type": "code",
   "execution_count": 24,
   "metadata": {
    "collapsed": false
   },
   "outputs": [
    {
     "name": "stdout",
     "output_type": "stream",
     "text": [
      "Evaluating RMSE, MAE of algorithm SVD.\n",
      "\n",
      "------------\n",
      "Fold 1\n",
      "RMSE: 0.0362\n",
      "MAE:  0.0166\n",
      "------------\n",
      "Fold 2\n",
      "RMSE: 0.0369\n",
      "MAE:  0.0167\n",
      "------------\n",
      "Fold 3\n",
      "RMSE: 0.0367\n",
      "MAE:  0.0167\n",
      "------------\n",
      "Fold 4\n",
      "RMSE: 0.0374\n",
      "MAE:  0.0172\n",
      "------------\n",
      "Fold 5\n",
      "RMSE: 0.0365\n",
      "MAE:  0.0167\n",
      "------------\n",
      "------------\n",
      "Mean RMSE: 0.0367\n",
      "Mean MAE : 0.0168\n",
      "------------\n",
      "------------\n"
     ]
    }
   ],
   "source": [
    "### SVD\n",
    "from surprise import SVD, evaluate\n",
    "algo = SVD()\n",
    "perf = evaluate(algo, music_data, measures=['RMSE', 'MAE'])"
   ]
  },
  {
   "cell_type": "code",
   "execution_count": 25,
   "metadata": {
    "collapsed": false
   },
   "outputs": [
    {
     "name": "stdout",
     "output_type": "stream",
     "text": [
      "Evaluating RMSE, MAE of algorithm SVDpp.\n",
      "\n",
      "------------\n",
      "Fold 1\n",
      "RMSE: 0.0150\n",
      "MAE:  0.0065\n",
      "------------\n",
      "Fold 2\n",
      "RMSE: 0.0149\n",
      "MAE:  0.0064\n",
      "------------\n",
      "Fold 3\n",
      "RMSE: 0.0152\n",
      "MAE:  0.0066\n",
      "------------\n",
      "Fold 4\n",
      "RMSE: 0.0154\n",
      "MAE:  0.0066\n",
      "------------\n",
      "Fold 5\n",
      "RMSE: 0.0152\n",
      "MAE:  0.0065\n",
      "------------\n",
      "------------\n",
      "Mean RMSE: 0.0151\n",
      "Mean MAE : 0.0065\n",
      "------------\n",
      "------------\n"
     ]
    }
   ],
   "source": [
    "### SVD++\n",
    "from surprise import SVDpp, evaluate\n",
    "algo = SVDpp()\n",
    "perf = evaluate(algo, music_data, measures=['RMSE', 'MAE'])"
   ]
  },
  {
   "cell_type": "code",
   "execution_count": 26,
   "metadata": {
    "collapsed": false
   },
   "outputs": [
    {
     "name": "stdout",
     "output_type": "stream",
     "text": [
      "Evaluating RMSE, MAE of algorithm NMF.\n",
      "\n",
      "------------\n",
      "Fold 1\n",
      "RMSE: 0.0000\n",
      "MAE:  0.0000\n",
      "------------\n",
      "Fold 2\n",
      "RMSE: 0.0000\n",
      "MAE:  0.0000\n",
      "------------\n",
      "Fold 3\n",
      "RMSE: 0.0000\n",
      "MAE:  0.0000\n",
      "------------\n",
      "Fold 4\n",
      "RMSE: 0.0000\n",
      "MAE:  0.0000\n",
      "------------\n",
      "Fold 5\n",
      "RMSE: 0.0000\n",
      "MAE:  0.0000\n",
      "------------\n",
      "------------\n",
      "Mean RMSE: 0.0000\n",
      "Mean MAE : 0.0000\n",
      "------------\n",
      "------------\n"
     ]
    },
    {
     "ename": "NameError",
     "evalue": "name 'print_perf' is not defined",
     "output_type": "error",
     "traceback": [
      "\u001b[0;31m---------------------------------------------------------------------------\u001b[0m",
      "\u001b[0;31mNameError\u001b[0m                                 Traceback (most recent call last)",
      "\u001b[0;32m<ipython-input-26-fa873bd2e215>\u001b[0m in \u001b[0;36m<module>\u001b[0;34m()\u001b[0m\n\u001b[1;32m      3\u001b[0m \u001b[0malgo\u001b[0m \u001b[1;33m=\u001b[0m \u001b[0mNMF\u001b[0m\u001b[1;33m(\u001b[0m\u001b[1;33m)\u001b[0m\u001b[1;33m\u001b[0m\u001b[0m\n\u001b[1;32m      4\u001b[0m \u001b[0mperf\u001b[0m \u001b[1;33m=\u001b[0m \u001b[0mevaluate\u001b[0m\u001b[1;33m(\u001b[0m\u001b[0malgo\u001b[0m\u001b[1;33m,\u001b[0m \u001b[0mmusic_data\u001b[0m\u001b[1;33m,\u001b[0m \u001b[0mmeasures\u001b[0m\u001b[1;33m=\u001b[0m\u001b[1;33m[\u001b[0m\u001b[1;34m'RMSE'\u001b[0m\u001b[1;33m,\u001b[0m \u001b[1;34m'MAE'\u001b[0m\u001b[1;33m]\u001b[0m\u001b[1;33m)\u001b[0m\u001b[1;33m\u001b[0m\u001b[0m\n\u001b[0;32m----> 5\u001b[0;31m \u001b[0mprint_perf\u001b[0m\u001b[1;33m(\u001b[0m\u001b[0mperf\u001b[0m\u001b[1;33m)\u001b[0m\u001b[1;33m\u001b[0m\u001b[0m\n\u001b[0m",
      "\u001b[0;31mNameError\u001b[0m: name 'print_perf' is not defined"
     ]
    }
   ],
   "source": [
    "### NMF\n",
    "from surprise import NMF\n",
    "algo = NMF()\n",
    "perf = evaluate(algo, music_data, measures=['RMSE', 'MAE'])\n",
    "print_perf(perf)"
   ]
  }
 ],
 "metadata": {
  "kernelspec": {
   "display_name": "Python 2",
   "language": "python",
   "name": "python2"
  },
  "language_info": {
   "codemirror_mode": {
    "name": "ipython",
    "version": 2
   },
   "file_extension": ".py",
   "mimetype": "text/x-python",
   "name": "python",
   "nbconvert_exporter": "python",
   "pygments_lexer": "ipython2",
   "version": "2.7.13"
  }
 },
 "nbformat": 4,
 "nbformat_minor": 1
}
